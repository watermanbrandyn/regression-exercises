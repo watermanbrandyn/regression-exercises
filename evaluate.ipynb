{
 "cells": [
  {
   "cell_type": "code",
   "execution_count": 1,
   "id": "d002b17e",
   "metadata": {},
   "outputs": [],
   "source": [
    "# os functions\n",
    "import os\n",
    "\n",
    "# local files\n",
    "from env import host, user, password\n",
    "import wrangle as w\n",
    "\n",
    "# df manipulations\n",
    "import pandas as pd\n",
    "import numpy as np\n",
    "\n",
    "# visualization\n",
    "import seaborn as sns\n",
    "%matplotlib inline\n",
    "import matplotlib.pyplot as plt\n",
    "\n",
    "from scipy import stats\n",
    "from math import sqrt\n",
    "\n",
    "from sklearn.preprocessing import MinMaxScaler, StandardScaler, RobustScaler, QuantileTransformer \n",
    "from sklearn.model_selection import train_test_split\n",
    "from sklearn.impute import SimpleImputer\n",
    "\n",
    "from sklearn.linear_model import LinearRegression\n",
    "from sklearn.feature_selection import f_regression\n",
    "from sklearn.metrics import mean_squared_error, r2_score, explained_variance_score\n",
    "\n",
    "import warnings\n",
    "warnings.filterwarnings(\"ignore\")\n",
    "\n",
    "np.random.seed(123)"
   ]
  },
  {
   "cell_type": "code",
   "execution_count": 2,
   "id": "e42c0dc6",
   "metadata": {},
   "outputs": [],
   "source": [
    "# 1. Load the tips dataset from either pydataset or seaborn\n",
    "from pydataset import data\n",
    "tips = data('tips')"
   ]
  },
  {
   "cell_type": "code",
   "execution_count": 3,
   "id": "b8803b4d",
   "metadata": {},
   "outputs": [
    {
     "data": {
      "text/html": [
       "<div>\n",
       "<style scoped>\n",
       "    .dataframe tbody tr th:only-of-type {\n",
       "        vertical-align: middle;\n",
       "    }\n",
       "\n",
       "    .dataframe tbody tr th {\n",
       "        vertical-align: top;\n",
       "    }\n",
       "\n",
       "    .dataframe thead th {\n",
       "        text-align: right;\n",
       "    }\n",
       "</style>\n",
       "<table border=\"1\" class=\"dataframe\">\n",
       "  <thead>\n",
       "    <tr style=\"text-align: right;\">\n",
       "      <th></th>\n",
       "      <th>total_bill</th>\n",
       "      <th>tip</th>\n",
       "      <th>sex</th>\n",
       "      <th>smoker</th>\n",
       "      <th>day</th>\n",
       "      <th>time</th>\n",
       "      <th>size</th>\n",
       "      <th>baseline</th>\n",
       "      <th>yhat</th>\n",
       "    </tr>\n",
       "  </thead>\n",
       "  <tbody>\n",
       "    <tr>\n",
       "      <th>1</th>\n",
       "      <td>16.99</td>\n",
       "      <td>1.01</td>\n",
       "      <td>Female</td>\n",
       "      <td>No</td>\n",
       "      <td>Sun</td>\n",
       "      <td>Dinner</td>\n",
       "      <td>2</td>\n",
       "      <td>2.998279</td>\n",
       "      <td>2.704636</td>\n",
       "    </tr>\n",
       "    <tr>\n",
       "      <th>2</th>\n",
       "      <td>10.34</td>\n",
       "      <td>1.66</td>\n",
       "      <td>Male</td>\n",
       "      <td>No</td>\n",
       "      <td>Sun</td>\n",
       "      <td>Dinner</td>\n",
       "      <td>3</td>\n",
       "      <td>2.998279</td>\n",
       "      <td>2.006223</td>\n",
       "    </tr>\n",
       "    <tr>\n",
       "      <th>3</th>\n",
       "      <td>21.01</td>\n",
       "      <td>3.50</td>\n",
       "      <td>Male</td>\n",
       "      <td>No</td>\n",
       "      <td>Sun</td>\n",
       "      <td>Dinner</td>\n",
       "      <td>3</td>\n",
       "      <td>2.998279</td>\n",
       "      <td>3.126835</td>\n",
       "    </tr>\n",
       "    <tr>\n",
       "      <th>4</th>\n",
       "      <td>23.68</td>\n",
       "      <td>3.31</td>\n",
       "      <td>Male</td>\n",
       "      <td>No</td>\n",
       "      <td>Sun</td>\n",
       "      <td>Dinner</td>\n",
       "      <td>2</td>\n",
       "      <td>2.998279</td>\n",
       "      <td>3.407250</td>\n",
       "    </tr>\n",
       "    <tr>\n",
       "      <th>5</th>\n",
       "      <td>24.59</td>\n",
       "      <td>3.61</td>\n",
       "      <td>Female</td>\n",
       "      <td>No</td>\n",
       "      <td>Sun</td>\n",
       "      <td>Dinner</td>\n",
       "      <td>4</td>\n",
       "      <td>2.998279</td>\n",
       "      <td>3.502822</td>\n",
       "    </tr>\n",
       "  </tbody>\n",
       "</table>\n",
       "</div>"
      ],
      "text/plain": [
       "   total_bill   tip     sex smoker  day    time  size  baseline      yhat\n",
       "1       16.99  1.01  Female     No  Sun  Dinner     2  2.998279  2.704636\n",
       "2       10.34  1.66    Male     No  Sun  Dinner     3  2.998279  2.006223\n",
       "3       21.01  3.50    Male     No  Sun  Dinner     3  2.998279  3.126835\n",
       "4       23.68  3.31    Male     No  Sun  Dinner     2  2.998279  3.407250\n",
       "5       24.59  3.61  Female     No  Sun  Dinner     4  2.998279  3.502822"
      ]
     },
     "execution_count": 3,
     "metadata": {},
     "output_type": "execute_result"
    }
   ],
   "source": [
    "# 2. Fit a linear regression model (ordinary least squares) and compute yhat, predictions of tip using total_bill\n",
    "\n",
    "baseline = tips.tip.mean()\n",
    "tips['baseline'] = baseline\n",
    "\n",
    "model = LinearRegression().fit(tips[['total_bill']], tips.tip)\n",
    "tips['yhat'] = model.predict(tips[['total_bill']])\n",
    "tips.head()"
   ]
  },
  {
   "cell_type": "code",
   "execution_count": 4,
   "id": "94f71728",
   "metadata": {},
   "outputs": [],
   "source": [
    "# 3. Plot the residuals for the linear regression model that you made."
   ]
  },
  {
   "cell_type": "code",
   "execution_count": 5,
   "id": "56c1a952",
   "metadata": {},
   "outputs": [
    {
     "data": {
      "image/png": "[encoded data removed]",
      "text/plain": [
       "<Figure size 432x288 with 1 Axes>"
      ]
     },
     "metadata": {
      "needs_background": "light"
     },
     "output_type": "display_data"
    }
   ],
   "source": [
    "plt.scatter(tips.total_bill, tips.tip)\n",
    "plt.axhline(baseline, ls=':')\n",
    "plt.xlabel('Total Bill')\n",
    "plt.ylabel('Tip')\n",
    "plt.title('Baseline Model')\n",
    "plt.show()"
   ]
  },
  {
   "cell_type": "code",
   "execution_count": 6,
   "id": "547260c6",
   "metadata": {},
   "outputs": [],
   "source": [
    "tips['residual_baseline'] = tips['baseline'] - tips['tip']"
   ]
  },
  {
   "cell_type": "code",
   "execution_count": 7,
   "id": "f0deac6a",
   "metadata": {},
   "outputs": [
    {
     "data": {
      "image/png": "[encoded data removed]",
      "text/plain": [
       "<Figure size 432x288 with 1 Axes>"
      ]
     },
     "metadata": {
      "needs_background": "light"
     },
     "output_type": "display_data"
    }
   ],
   "source": [
    "plt.scatter(tips.total_bill, tips.tip)\n",
    "plt.plot(tips.total_bill, tips.yhat)\n",
    "plt.xlabel('Total Bill')\n",
    "plt.ylabel('Tip')\n",
    "plt.title('Linear Model')\n",
    "plt.show()"
   ]
  },
  {
   "cell_type": "code",
   "execution_count": 8,
   "id": "609c46b1",
   "metadata": {},
   "outputs": [
    {
     "data": {
      "image/png": "[encoded data removed]",
      "text/plain": [
       "<Figure size 432x288 with 1 Axes>"
      ]
     },
     "metadata": {
      "needs_background": "light"
     },
     "output_type": "display_data"
    }
   ],
   "source": [
    "plt.scatter(tips.tip, tips.yhat)\n",
    "plt.xlabel('Tip')\n",
    "plt.ylabel('Prediction Tip')\n",
    "plt.title('Residuals')\n",
    "plt.show()"
   ]
  },
  {
   "cell_type": "code",
   "execution_count": 9,
   "id": "0262548a",
   "metadata": {},
   "outputs": [],
   "source": [
    "tips['residual'] = tips['yhat'] - tips['tip']"
   ]
  },
  {
   "cell_type": "code",
   "execution_count": 10,
   "id": "b0576e34",
   "metadata": {},
   "outputs": [
    {
     "data": {
      "text/html": [
       "<div>\n",
       "<style scoped>\n",
       "    .dataframe tbody tr th:only-of-type {\n",
       "        vertical-align: middle;\n",
       "    }\n",
       "\n",
       "    .dataframe tbody tr th {\n",
       "        vertical-align: top;\n",
       "    }\n",
       "\n",
       "    .dataframe thead th {\n",
       "        text-align: right;\n",
       "    }\n",
       "</style>\n",
       "<table border=\"1\" class=\"dataframe\">\n",
       "  <thead>\n",
       "    <tr style=\"text-align: right;\">\n",
       "      <th></th>\n",
       "      <th>total_bill</th>\n",
       "      <th>tip</th>\n",
       "      <th>sex</th>\n",
       "      <th>smoker</th>\n",
       "      <th>day</th>\n",
       "      <th>time</th>\n",
       "      <th>size</th>\n",
       "      <th>baseline</th>\n",
       "      <th>yhat</th>\n",
       "      <th>residual_baseline</th>\n",
       "      <th>residual</th>\n",
       "    </tr>\n",
       "  </thead>\n",
       "  <tbody>\n",
       "    <tr>\n",
       "      <th>1</th>\n",
       "      <td>16.99</td>\n",
       "      <td>1.01</td>\n",
       "      <td>Female</td>\n",
       "      <td>No</td>\n",
       "      <td>Sun</td>\n",
       "      <td>Dinner</td>\n",
       "      <td>2</td>\n",
       "      <td>2.998279</td>\n",
       "      <td>2.704636</td>\n",
       "      <td>1.988279</td>\n",
       "      <td>1.694636</td>\n",
       "    </tr>\n",
       "    <tr>\n",
       "      <th>2</th>\n",
       "      <td>10.34</td>\n",
       "      <td>1.66</td>\n",
       "      <td>Male</td>\n",
       "      <td>No</td>\n",
       "      <td>Sun</td>\n",
       "      <td>Dinner</td>\n",
       "      <td>3</td>\n",
       "      <td>2.998279</td>\n",
       "      <td>2.006223</td>\n",
       "      <td>1.338279</td>\n",
       "      <td>0.346223</td>\n",
       "    </tr>\n",
       "    <tr>\n",
       "      <th>3</th>\n",
       "      <td>21.01</td>\n",
       "      <td>3.50</td>\n",
       "      <td>Male</td>\n",
       "      <td>No</td>\n",
       "      <td>Sun</td>\n",
       "      <td>Dinner</td>\n",
       "      <td>3</td>\n",
       "      <td>2.998279</td>\n",
       "      <td>3.126835</td>\n",
       "      <td>-0.501721</td>\n",
       "      <td>-0.373165</td>\n",
       "    </tr>\n",
       "    <tr>\n",
       "      <th>4</th>\n",
       "      <td>23.68</td>\n",
       "      <td>3.31</td>\n",
       "      <td>Male</td>\n",
       "      <td>No</td>\n",
       "      <td>Sun</td>\n",
       "      <td>Dinner</td>\n",
       "      <td>2</td>\n",
       "      <td>2.998279</td>\n",
       "      <td>3.407250</td>\n",
       "      <td>-0.311721</td>\n",
       "      <td>0.097250</td>\n",
       "    </tr>\n",
       "    <tr>\n",
       "      <th>5</th>\n",
       "      <td>24.59</td>\n",
       "      <td>3.61</td>\n",
       "      <td>Female</td>\n",
       "      <td>No</td>\n",
       "      <td>Sun</td>\n",
       "      <td>Dinner</td>\n",
       "      <td>4</td>\n",
       "      <td>2.998279</td>\n",
       "      <td>3.502822</td>\n",
       "      <td>-0.611721</td>\n",
       "      <td>-0.107178</td>\n",
       "    </tr>\n",
       "  </tbody>\n",
       "</table>\n",
       "</div>"
      ],
      "text/plain": [
       "   total_bill   tip     sex smoker  day    time  size  baseline      yhat  \\\n",
       "1       16.99  1.01  Female     No  Sun  Dinner     2  2.998279  2.704636   \n",
       "2       10.34  1.66    Male     No  Sun  Dinner     3  2.998279  2.006223   \n",
       "3       21.01  3.50    Male     No  Sun  Dinner     3  2.998279  3.126835   \n",
       "4       23.68  3.31    Male     No  Sun  Dinner     2  2.998279  3.407250   \n",
       "5       24.59  3.61  Female     No  Sun  Dinner     4  2.998279  3.502822   \n",
       "\n",
       "   residual_baseline  residual  \n",
       "1           1.988279  1.694636  \n",
       "2           1.338279  0.346223  \n",
       "3          -0.501721 -0.373165  \n",
       "4          -0.311721  0.097250  \n",
       "5          -0.611721 -0.107178  "
      ]
     },
     "execution_count": 10,
     "metadata": {},
     "output_type": "execute_result"
    }
   ],
   "source": [
    "tips.head()"
   ]
  },
  {
   "cell_type": "code",
   "execution_count": 11,
   "id": "8318d6ae",
   "metadata": {},
   "outputs": [],
   "source": [
    "# 4. Calculate the sum of squared errors, explained sum of squares, total sum of squares, mean squared error,\n",
    "# and root mean squared error for your model."
   ]
  },
  {
   "cell_type": "code",
   "execution_count": 12,
   "id": "24d06d4f",
   "metadata": {},
   "outputs": [],
   "source": [
    "# Sum of Squared Errors\n",
    "SSE = mean_squared_error(tips.tip, tips.yhat)*len(tips)\n",
    "SSE_base = mean_squared_error(tips.tip, tips.baseline)*len(tips)\n",
    "\n",
    "# Explained Sum of Squares, total sum of squares\n",
    "ESS = sum((tips.yhat - tips.tip.mean())**2)\n",
    "ESS_base = sum((tips.baseline - tips.tip.mean())**2)\n",
    "\n",
    "TSS = ESS + SSE\n",
    "TSS_base = ESS_base + SSE_base"
   ]
  },
  {
   "cell_type": "code",
   "execution_count": 13,
   "id": "b8470052",
   "metadata": {},
   "outputs": [],
   "source": [
    "# Mean squared error and root mean squared error\n",
    "MSE = mean_squared_error(tips.tip, tips.yhat)\n",
    "MSE_base = mean_squared_error(tips.tip, tips.baseline)\n",
    "\n",
    "RMSE = sqrt(MSE)\n",
    "RMSE_base = sqrt(MSE)"
   ]
  },
  {
   "cell_type": "code",
   "execution_count": 14,
   "id": "fbd3bb92",
   "metadata": {},
   "outputs": [],
   "source": [
    "# 5. Calculate the sum of squared errors, mean squared error, and root mean squared error for the baseline model \n",
    "# (a model that always predicts the average tip amount)"
   ]
  },
  {
   "cell_type": "code",
   "execution_count": 15,
   "id": "3a5a6481",
   "metadata": {},
   "outputs": [],
   "source": [
    "# Done with model above"
   ]
  },
  {
   "cell_type": "code",
   "execution_count": 16,
   "id": "0077a858",
   "metadata": {},
   "outputs": [],
   "source": [
    "# 6. Write python code that compares the sum of squared errors for your model against the sum of squared errors\n",
    "# for the baseline model and outputs whether or not your model performs better than the baseline model."
   ]
  },
  {
   "cell_type": "code",
   "execution_count": 17,
   "id": "76972708",
   "metadata": {},
   "outputs": [],
   "source": [
    "def metric_comparison_reg(tips):\n",
    "    '''\n",
    "    This function takes in a dataframe and returns regression metrics SSE, MSE, and RMSE for comparison. \n",
    "    '''\n",
    "    # Creation of model and baseline dataframes that contains metrics\n",
    "    df_eval = pd.DataFrame(np.array(['SSE', 'MSE', 'RMSE']), columns=['metric'])\n",
    "    df_baseline = pd.DataFrame(np.array(['SSE_baseline', 'MSE_baseline', 'RMSE_baseline']), columns=['metric'])\n",
    "    \n",
    "    ### Calculation of metrics\n",
    "    # Sum of Squared Errors\n",
    "    SSE = mean_squared_error(tips.tip, tips.yhat)*len(tips)\n",
    "    SSE_base = mean_squared_error(tips.tip, tips.baseline)*len(tips)\n",
    "    # Mean squared error and root mean squared error\n",
    "    MSE = mean_squared_error(tips.tip, tips.yhat)\n",
    "    MSE_base = mean_squared_error(tips.tip, tips.baseline)\n",
    "    # Root mean squared error\n",
    "    RMSE = sqrt(MSE)\n",
    "    RMSE_base = sqrt(MSE_base)\n",
    "    \n",
    "    # Create error column with metrics assigned\n",
    "    df_eval['model_error'] = np.array([SSE, MSE, RMSE])\n",
    "    df_baseline['model_error'] = np.array([SSE_base, MSE_base, RMSE_base])\n",
    "    \n",
    "    # Print the dataframes for comparison\n",
    "    print(df_eval)\n",
    "    print(df_baseline)"
   ]
  },
  {
   "cell_type": "code",
   "execution_count": 18,
   "id": "a7ab8c8a",
   "metadata": {},
   "outputs": [
    {
     "name": "stdout",
     "output_type": "stream",
     "text": [
      "  metric  model_error\n",
      "0    SSE   252.788744\n",
      "1    MSE     1.036019\n",
      "2   RMSE     1.017850\n",
      "          metric  model_error\n",
      "0   SSE_baseline   465.212477\n",
      "1   MSE_baseline     1.906609\n",
      "2  RMSE_baseline     1.380800\n"
     ]
    }
   ],
   "source": [
    "metric_comparison_reg(tips)"
   ]
  },
  {
   "cell_type": "code",
   "execution_count": 19,
   "id": "1b010814",
   "metadata": {},
   "outputs": [],
   "source": [
    "# 7. What is the amount of variance explained in your model?"
   ]
  },
  {
   "cell_type": "code",
   "execution_count": 20,
   "id": "9695c1e8",
   "metadata": {},
   "outputs": [
    {
     "name": "stdout",
     "output_type": "stream",
     "text": [
      "Explained Variance =  0.457\n"
     ]
    }
   ],
   "source": [
    "evs = explained_variance_score(tips.tip, tips.yhat)\n",
    "print('Explained Variance = ', round(evs,3))"
   ]
  },
  {
   "cell_type": "code",
   "execution_count": 21,
   "id": "17f189e2",
   "metadata": {},
   "outputs": [],
   "source": [
    "# 8. Is your model better than the baseline model?"
   ]
  },
  {
   "cell_type": "markdown",
   "id": "581a7b77",
   "metadata": {},
   "source": [
    "The model performs better than the baseline in all of the measured metrics."
   ]
  },
  {
   "cell_type": "code",
   "execution_count": 22,
   "id": "e68c0e17",
   "metadata": {},
   "outputs": [],
   "source": [
    "# 9. Creation of evaluate.py that contains a number of functions."
   ]
  },
  {
   "cell_type": "code",
   "execution_count": 23,
   "id": "f3f8282a",
   "metadata": {},
   "outputs": [],
   "source": [
    "import evaluate"
   ]
  },
  {
   "cell_type": "code",
   "execution_count": 24,
   "id": "1f46d938",
   "metadata": {},
   "outputs": [
    {
     "data": {
      "image/png": "[encoded data removed]",
      "text/plain": [
       "<Figure size 936x504 with 2 Axes>"
      ]
     },
     "metadata": {
      "needs_background": "light"
     },
     "output_type": "display_data"
    }
   ],
   "source": [
    "evaluate.plot_residuals(tips.tip, tips.yhat)"
   ]
  },
  {
   "cell_type": "code",
   "execution_count": 27,
   "id": "2966b6da",
   "metadata": {},
   "outputs": [
    {
     "data": {
      "text/plain": [
       "(252.78874385077597,\n",
       " 212.42373319840416,\n",
       " 465.21247704918017,\n",
       " 1.036019442011377,\n",
       " 1.0178504025697377)"
      ]
     },
     "execution_count": 27,
     "metadata": {},
     "output_type": "execute_result"
    }
   ],
   "source": [
    "SSE, ESS, TSS, MSE, RMSE = evaluate.regression_errors(tips.tip, tips.yhat)\n",
    "SSE, ESS, TSS, MSE, RMSE"
   ]
  },
  {
   "cell_type": "code",
   "execution_count": 28,
   "id": "34db9ff6",
   "metadata": {},
   "outputs": [
    {
     "data": {
      "text/plain": [
       "(465.21247704918085, 1.906608512496641, 1.3807999538298954)"
      ]
     },
     "execution_count": 28,
     "metadata": {},
     "output_type": "execute_result"
    }
   ],
   "source": [
    "SSE_base, MSE_base, RMSE_base = evaluate.baseline_mean_errors(tips.tip)\n",
    "SSE_base, MSE_base, RMSE_base"
   ]
  },
  {
   "cell_type": "code",
   "execution_count": 26,
   "id": "377b5eb2",
   "metadata": {},
   "outputs": [],
   "source": [
    "# 10. Load the mpg dataset and fit a model that predicts highway mileage based on engine displacement.\n",
    "# Take a look at regression metrics using evaluate.py functions to determine if model performs better than baseline."
   ]
  },
  {
   "cell_type": "code",
   "execution_count": null,
   "id": "d8d3d0f7",
   "metadata": {},
   "outputs": [],
   "source": []
  }
 ],
 "metadata": {
  "kernelspec": {
   "display_name": "Python 3.9.7 64-bit ('base': conda)",
   "language": "python",
   "name": "python397jvsc74a57bd038cca0c38332a56087b24af0bc80247f4fced29cb4f7f437d91dc159adec9c4e"
  },
  "language_info": {
   "codemirror_mode": {
    "name": "ipython",
    "version": 3
   },
   "file_extension": ".py",
   "mimetype": "text/x-python",
   "name": "python",
   "nbconvert_exporter": "python",
   "pygments_lexer": "ipython3",
   "version": "3.9.7"
  }
 },
 "nbformat": 4,
 "nbformat_minor": 5
}
