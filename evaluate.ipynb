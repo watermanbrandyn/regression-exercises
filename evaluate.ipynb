{
 "cells": [
  {
   "cell_type": "code",
   "execution_count": 1,
   "id": "d002b17e",
   "metadata": {},
   "outputs": [],
   "source": [
    "# os functions\n",
    "import os\n",
    "\n",
    "# local files\n",
    "from env import host, user, password\n",
    "import wrangle as w\n",
    "\n",
    "# df manipulations\n",
    "import pandas as pd\n",
    "import numpy as np\n",
    "\n",
    "# visualization\n",
    "import seaborn as sns\n",
    "%matplotlib inline\n",
    "import matplotlib.pyplot as plt\n",
    "\n",
    "from scipy import stats\n",
    "from math import sqrt\n",
    "\n",
    "from sklearn.preprocessing import MinMaxScaler, StandardScaler, RobustScaler, QuantileTransformer \n",
    "from sklearn.model_selection import train_test_split\n",
    "from sklearn.impute import SimpleImputer\n",
    "\n",
    "from sklearn.linear_model import LinearRegression\n",
    "from sklearn.feature_selection import f_regression\n",
    "from sklearn.metrics import mean_squared_error, r2_score, explained_variance_score\n",
    "\n",
    "import warnings\n",
    "warnings.filterwarnings(\"ignore\")\n",
    "\n",
    "np.random.seed(123)"
   ]
  },
  {
   "cell_type": "code",
   "execution_count": 2,
   "id": "e42c0dc6",
   "metadata": {},
   "outputs": [],
   "source": [
    "# 1. Load the tips dataset from either pydataset or seaborn\n",
    "from pydataset import data\n",
    "tips = data('tips')"
   ]
  },
  {
   "cell_type": "code",
   "execution_count": 3,
   "id": "b8803b4d",
   "metadata": {},
   "outputs": [
    {
     "data": {
      "text/html": [
       "<div>\n",
       "<style scoped>\n",
       "    .dataframe tbody tr th:only-of-type {\n",
       "        vertical-align: middle;\n",
       "    }\n",
       "\n",
       "    .dataframe tbody tr th {\n",
       "        vertical-align: top;\n",
       "    }\n",
       "\n",
       "    .dataframe thead th {\n",
       "        text-align: right;\n",
       "    }\n",
       "</style>\n",
       "<table border=\"1\" class=\"dataframe\">\n",
       "  <thead>\n",
       "    <tr style=\"text-align: right;\">\n",
       "      <th></th>\n",
       "      <th>total_bill</th>\n",
       "      <th>tip</th>\n",
       "      <th>sex</th>\n",
       "      <th>smoker</th>\n",
       "      <th>day</th>\n",
       "      <th>time</th>\n",
       "      <th>size</th>\n",
       "      <th>baseline</th>\n",
       "      <th>yhat</th>\n",
       "    </tr>\n",
       "  </thead>\n",
       "  <tbody>\n",
       "    <tr>\n",
       "      <th>1</th>\n",
       "      <td>16.99</td>\n",
       "      <td>1.01</td>\n",
       "      <td>Female</td>\n",
       "      <td>No</td>\n",
       "      <td>Sun</td>\n",
       "      <td>Dinner</td>\n",
       "      <td>2</td>\n",
       "      <td>2.998279</td>\n",
       "      <td>2.704636</td>\n",
       "    </tr>\n",
       "    <tr>\n",
       "      <th>2</th>\n",
       "      <td>10.34</td>\n",
       "      <td>1.66</td>\n",
       "      <td>Male</td>\n",
       "      <td>No</td>\n",
       "      <td>Sun</td>\n",
       "      <td>Dinner</td>\n",
       "      <td>3</td>\n",
       "      <td>2.998279</td>\n",
       "      <td>2.006223</td>\n",
       "    </tr>\n",
       "    <tr>\n",
       "      <th>3</th>\n",
       "      <td>21.01</td>\n",
       "      <td>3.50</td>\n",
       "      <td>Male</td>\n",
       "      <td>No</td>\n",
       "      <td>Sun</td>\n",
       "      <td>Dinner</td>\n",
       "      <td>3</td>\n",
       "      <td>2.998279</td>\n",
       "      <td>3.126835</td>\n",
       "    </tr>\n",
       "    <tr>\n",
       "      <th>4</th>\n",
       "      <td>23.68</td>\n",
       "      <td>3.31</td>\n",
       "      <td>Male</td>\n",
       "      <td>No</td>\n",
       "      <td>Sun</td>\n",
       "      <td>Dinner</td>\n",
       "      <td>2</td>\n",
       "      <td>2.998279</td>\n",
       "      <td>3.407250</td>\n",
       "    </tr>\n",
       "    <tr>\n",
       "      <th>5</th>\n",
       "      <td>24.59</td>\n",
       "      <td>3.61</td>\n",
       "      <td>Female</td>\n",
       "      <td>No</td>\n",
       "      <td>Sun</td>\n",
       "      <td>Dinner</td>\n",
       "      <td>4</td>\n",
       "      <td>2.998279</td>\n",
       "      <td>3.502822</td>\n",
       "    </tr>\n",
       "  </tbody>\n",
       "</table>\n",
       "</div>"
      ],
      "text/plain": [
       "   total_bill   tip     sex smoker  day    time  size  baseline      yhat\n",
       "1       16.99  1.01  Female     No  Sun  Dinner     2  2.998279  2.704636\n",
       "2       10.34  1.66    Male     No  Sun  Dinner     3  2.998279  2.006223\n",
       "3       21.01  3.50    Male     No  Sun  Dinner     3  2.998279  3.126835\n",
       "4       23.68  3.31    Male     No  Sun  Dinner     2  2.998279  3.407250\n",
       "5       24.59  3.61  Female     No  Sun  Dinner     4  2.998279  3.502822"
      ]
     },
     "execution_count": 3,
     "metadata": {},
     "output_type": "execute_result"
    }
   ],
   "source": [
    "# 2. Fit a linear regression model (ordinary least squares) and compute yhat, predictions of tip using total_bill\n",
    "\n",
    "baseline = tips.tip.mean()\n",
    "tips['baseline'] = baseline\n",
    "\n",
    "model = LinearRegression().fit(tips[['total_bill']], tips.tip)\n",
    "tips['yhat'] = model.predict(tips[['total_bill']])\n",
    "tips.head()"
   ]
  },
  {
   "cell_type": "code",
   "execution_count": 4,
   "id": "94f71728",
   "metadata": {},
   "outputs": [],
   "source": [
    "# 3. Plot the residuals for the linear regression model that you made."
   ]
  },
  {
   "cell_type": "code",
   "execution_count": 5,
   "id": "56c1a952",
   "metadata": {},
   "outputs": [
    {
     "data": {
      "image/png": "[encoded data removed]",
      "text/plain": [
       "<Figure size 432x288 with 1 Axes>"
      ]
     },
     "metadata": {
      "needs_background": "light"
     },
     "output_type": "display_data"
    }
   ],
   "source": [
    "plt.scatter(tips.total_bill, tips.tip)\n",
    "plt.axhline(baseline, ls=':')\n",
    "plt.xlabel('Total Bill')\n",
    "plt.ylabel('Tip')\n",
    "plt.title('Baseline Model')\n",
    "plt.show()"
   ]
  },
  {
   "cell_type": "code",
   "execution_count": 6,
   "id": "547260c6",
   "metadata": {},
   "outputs": [],
   "source": [
    "tips['residual_baseline'] = tips['baseline'] - tips['tip']"
   ]
  },
  {
   "cell_type": "code",
   "execution_count": 7,
   "id": "f0deac6a",
   "metadata": {},
   "outputs": [
    {
     "data": {
      "image/png": "[encoded data removed]",
      "text/plain": [
       "<Figure size 432x288 with 1 Axes>"
      ]
     },
     "metadata": {
      "needs_background": "light"
     },
     "output_type": "display_data"
    }
   ],
   "source": [
    "plt.scatter(tips.total_bill, tips.tip)\n",
    "plt.plot(tips.total_bill, tips.yhat)\n",
    "plt.xlabel('Total Bill')\n",
    "plt.ylabel('Tip')\n",
    "plt.title('Linear Model')\n",
    "plt.show()"
   ]
  },
  {
   "cell_type": "code",
   "execution_count": 8,
   "id": "609c46b1",
   "metadata": {},
   "outputs": [
    {
     "data": {
      "image/png": "[encoded data removed]",
      "text/plain": [
       "<Figure size 432x288 with 1 Axes>"
      ]
     },
     "metadata": {
      "needs_background": "light"
     },
     "output_type": "display_data"
    }
   ],
   "source": [
    "plt.scatter(tips.tip, tips.yhat)\n",
    "plt.xlabel('Tip')\n",
    "plt.ylabel('Prediction Tip')\n",
    "plt.title('Residuals')\n",
    "plt.show()"
   ]
  },
  {
   "cell_type": "code",
   "execution_count": 9,
   "id": "0262548a",
   "metadata": {},
   "outputs": [],
   "source": [
    "tips['residual'] = tips['yhat'] - tips['tip']"
   ]
  },
  {
   "cell_type": "code",
   "execution_count": 10,
   "id": "b0576e34",
   "metadata": {},
   "outputs": [
    {
     "data": {
      "text/html": [
       "<div>\n",
       "<style scoped>\n",
       "    .dataframe tbody tr th:only-of-type {\n",
       "        vertical-align: middle;\n",
       "    }\n",
       "\n",
       "    .dataframe tbody tr th {\n",
       "        vertical-align: top;\n",
       "    }\n",
       "\n",
       "    .dataframe thead th {\n",
       "        text-align: right;\n",
       "    }\n",
       "</style>\n",
       "<table border=\"1\" class=\"dataframe\">\n",
       "  <thead>\n",
       "    <tr style=\"text-align: right;\">\n",
       "      <th></th>\n",
       "      <th>total_bill</th>\n",
       "      <th>tip</th>\n",
       "      <th>sex</th>\n",
       "      <th>smoker</th>\n",
       "      <th>day</th>\n",
       "      <th>time</th>\n",
       "      <th>size</th>\n",
       "      <th>baseline</th>\n",
       "      <th>yhat</th>\n",
       "      <th>residual_baseline</th>\n",
       "      <th>residual</th>\n",
       "    </tr>\n",
       "  </thead>\n",
       "  <tbody>\n",
       "    <tr>\n",
       "      <th>1</th>\n",
       "      <td>16.99</td>\n",
       "      <td>1.01</td>\n",
       "      <td>Female</td>\n",
       "      <td>No</td>\n",
       "      <td>Sun</td>\n",
       "      <td>Dinner</td>\n",
       "      <td>2</td>\n",
       "      <td>2.998279</td>\n",
       "      <td>2.704636</td>\n",
       "      <td>1.988279</td>\n",
       "      <td>1.694636</td>\n",
       "    </tr>\n",
       "    <tr>\n",
       "      <th>2</th>\n",
       "      <td>10.34</td>\n",
       "      <td>1.66</td>\n",
       "      <td>Male</td>\n",
       "      <td>No</td>\n",
       "      <td>Sun</td>\n",
       "      <td>Dinner</td>\n",
       "      <td>3</td>\n",
       "      <td>2.998279</td>\n",
       "      <td>2.006223</td>\n",
       "      <td>1.338279</td>\n",
       "      <td>0.346223</td>\n",
       "    </tr>\n",
       "    <tr>\n",
       "      <th>3</th>\n",
       "      <td>21.01</td>\n",
       "      <td>3.50</td>\n",
       "      <td>Male</td>\n",
       "      <td>No</td>\n",
       "      <td>Sun</td>\n",
       "      <td>Dinner</td>\n",
       "      <td>3</td>\n",
       "      <td>2.998279</td>\n",
       "      <td>3.126835</td>\n",
       "      <td>-0.501721</td>\n",
       "      <td>-0.373165</td>\n",
       "    </tr>\n",
       "    <tr>\n",
       "      <th>4</th>\n",
       "      <td>23.68</td>\n",
       "      <td>3.31</td>\n",
       "      <td>Male</td>\n",
       "      <td>No</td>\n",
       "      <td>Sun</td>\n",
       "      <td>Dinner</td>\n",
       "      <td>2</td>\n",
       "      <td>2.998279</td>\n",
       "      <td>3.407250</td>\n",
       "      <td>-0.311721</td>\n",
       "      <td>0.097250</td>\n",
       "    </tr>\n",
       "    <tr>\n",
       "      <th>5</th>\n",
       "      <td>24.59</td>\n",
       "      <td>3.61</td>\n",
       "      <td>Female</td>\n",
       "      <td>No</td>\n",
       "      <td>Sun</td>\n",
       "      <td>Dinner</td>\n",
       "      <td>4</td>\n",
       "      <td>2.998279</td>\n",
       "      <td>3.502822</td>\n",
       "      <td>-0.611721</td>\n",
       "      <td>-0.107178</td>\n",
       "    </tr>\n",
       "  </tbody>\n",
       "</table>\n",
       "</div>"
      ],
      "text/plain": [
       "   total_bill   tip     sex smoker  day    time  size  baseline      yhat  \\\n",
       "1       16.99  1.01  Female     No  Sun  Dinner     2  2.998279  2.704636   \n",
       "2       10.34  1.66    Male     No  Sun  Dinner     3  2.998279  2.006223   \n",
       "3       21.01  3.50    Male     No  Sun  Dinner     3  2.998279  3.126835   \n",
       "4       23.68  3.31    Male     No  Sun  Dinner     2  2.998279  3.407250   \n",
       "5       24.59  3.61  Female     No  Sun  Dinner     4  2.998279  3.502822   \n",
       "\n",
       "   residual_baseline  residual  \n",
       "1           1.988279  1.694636  \n",
       "2           1.338279  0.346223  \n",
       "3          -0.501721 -0.373165  \n",
       "4          -0.311721  0.097250  \n",
       "5          -0.611721 -0.107178  "
      ]
     },
     "execution_count": 10,
     "metadata": {},
     "output_type": "execute_result"
    }
   ],
   "source": [
    "tips.head()"
   ]
  },
  {
   "cell_type": "code",
   "execution_count": 11,
   "id": "8318d6ae",
   "metadata": {},
   "outputs": [],
   "source": [
    "# 4. Calculate the sum of squared errors, explained sum of squares, total sum of squares, mean squared error,\n",
    "# and root mean squared error for your model."
   ]
  },
  {
   "cell_type": "code",
   "execution_count": 12,
   "id": "24d06d4f",
   "metadata": {},
   "outputs": [],
   "source": [
    "# Sum of Squared Errors\n",
    "SSE = mean_squared_error(tips.tip, tips.yhat)*len(tips)\n",
    "SSE_base = mean_squared_error(tips.tip, tips.baseline)*len(tips)\n",
    "\n",
    "# Explained Sum of Squares, total sum of squares\n",
    "ESS = sum((tips.yhat - tips.tip.mean())**2)\n",
    "ESS_base = sum((tips.baseline - tips.tip.mean())**2)\n",
    "\n",
    "TSS = ESS + SSE\n",
    "TSS_base = ESS_base + SSE_base"
   ]
  },
  {
   "cell_type": "code",
   "execution_count": 13,
   "id": "b8470052",
   "metadata": {},
   "outputs": [],
   "source": [
    "# Mean squared error and root mean squared error\n",
    "MSE = mean_squared_error(tips.tip, tips.yhat)\n",
    "MSE_base = mean_squared_error(tips.tip, tips.baseline)\n",
    "\n",
    "RMSE = sqrt(MSE)\n",
    "RMSE_base = sqrt(MSE)"
   ]
  },
  {
   "cell_type": "code",
   "execution_count": 14,
   "id": "fbd3bb92",
   "metadata": {},
   "outputs": [],
   "source": [
    "# 5. Calculate the sum of squared errors, mean squared error, and root mean squared error for the baseline model \n",
    "# (a model that always predicts the average tip amount)"
   ]
  },
  {
   "cell_type": "code",
   "execution_count": 15,
   "id": "3a5a6481",
   "metadata": {},
   "outputs": [],
   "source": [
    "# Done with model above"
   ]
  },
  {
   "cell_type": "code",
   "execution_count": 16,
   "id": "0077a858",
   "metadata": {},
   "outputs": [],
   "source": [
    "# 6. Write python code that compares the sum of squared errors for your model against the sum of squared errors\n",
    "# for the baseline model and outputs whether or not your model performs better than the baseline model."
   ]
  },
  {
   "cell_type": "code",
   "execution_count": 17,
   "id": "76972708",
   "metadata": {},
   "outputs": [],
   "source": [
    "def metric_comparison_reg(tips):\n",
    "    '''\n",
    "    This function takes in a dataframe and returns regression metrics SSE, MSE, and RMSE for comparison. \n",
    "    '''\n",
    "    # Creation of model and baseline dataframes that contains metrics\n",
    "    df_eval = pd.DataFrame(np.array(['SSE', 'MSE', 'RMSE']), columns=['metric'])\n",
    "    df_baseline = pd.DataFrame(np.array(['SSE_baseline', 'MSE_baseline', 'RMSE_baseline']), columns=['metric'])\n",
    "    \n",
    "    ### Calculation of metrics\n",
    "    # Sum of Squared Errors\n",
    "    SSE = mean_squared_error(tips.tip, tips.yhat)*len(tips)\n",
    "    SSE_base = mean_squared_error(tips.tip, tips.baseline)*len(tips)\n",
    "    # Mean squared error and root mean squared error\n",
    "    MSE = mean_squared_error(tips.tip, tips.yhat)\n",
    "    MSE_base = mean_squared_error(tips.tip, tips.baseline)\n",
    "    # Root mean squared error\n",
    "    RMSE = sqrt(MSE)\n",
    "    RMSE_base = sqrt(MSE_base)\n",
    "    \n",
    "    # Create error column with metrics assigned\n",
    "    df_eval['model_error'] = np.array([SSE, MSE, RMSE])\n",
    "    df_baseline['model_error'] = np.array([SSE_base, MSE_base, RMSE_base])\n",
    "    \n",
    "    # Print the dataframes for comparison\n",
    "    print(df_eval)\n",
    "    print(df_baseline)"
   ]
  },
  {
   "cell_type": "code",
   "execution_count": 18,
   "id": "a7ab8c8a",
   "metadata": {},
   "outputs": [
    {
     "name": "stdout",
     "output_type": "stream",
     "text": [
      "  metric  model_error\n",
      "0    SSE   252.788744\n",
      "1    MSE     1.036019\n",
      "2   RMSE     1.017850\n",
      "          metric  model_error\n",
      "0   SSE_baseline   465.212477\n",
      "1   MSE_baseline     1.906609\n",
      "2  RMSE_baseline     1.380800\n"
     ]
    }
   ],
   "source": [
    "metric_comparison_reg(tips)"
   ]
  },
  {
   "cell_type": "code",
   "execution_count": 19,
   "id": "1b010814",
   "metadata": {},
   "outputs": [],
   "source": [
    "# 7. What is the amount of variance explained in your model?"
   ]
  },
  {
   "cell_type": "code",
   "execution_count": 20,
   "id": "9695c1e8",
   "metadata": {},
   "outputs": [
    {
     "name": "stdout",
     "output_type": "stream",
     "text": [
      "Explained Variance =  0.457\n"
     ]
    }
   ],
   "source": [
    "evs = explained_variance_score(tips.tip, tips.yhat)\n",
    "print('Explained Variance = ', round(evs,3))"
   ]
  },
  {
   "cell_type": "code",
   "execution_count": 21,
   "id": "17f189e2",
   "metadata": {},
   "outputs": [],
   "source": [
    "# 8. Is your model better than the baseline model?"
   ]
  },
  {
   "cell_type": "markdown",
   "id": "581a7b77",
   "metadata": {},
   "source": [
    "The model performs better than the baseline in all of the measured metrics."
   ]
  },
  {
   "cell_type": "code",
   "execution_count": 22,
   "id": "e68c0e17",
   "metadata": {},
   "outputs": [],
   "source": [
    "# 9. Creation of evaluate.py that contains a number of functions."
   ]
  },
  {
   "cell_type": "code",
   "execution_count": 23,
   "id": "f3f8282a",
   "metadata": {},
   "outputs": [],
   "source": [
    "import evaluate"
   ]
  },
  {
   "cell_type": "code",
   "execution_count": 24,
   "id": "1f46d938",
   "metadata": {},
   "outputs": [
    {
     "data": {
      "image/png": "[encoded data removed]",
      "text/plain": [
       "<Figure size 936x504 with 2 Axes>"
      ]
     },
     "metadata": {
      "needs_background": "light"
     },
     "output_type": "display_data"
    }
   ],
   "source": [
    "evaluate.plot_residuals(tips.tip, tips.yhat)"
   ]
  },
  {
   "cell_type": "code",
   "execution_count": 25,
   "id": "2966b6da",
   "metadata": {},
   "outputs": [
    {
     "data": {
      "text/plain": [
       "(252.78874385077597,\n",
       " 212.42373319840416,\n",
       " 465.21247704918017,\n",
       " 1.036019442011377,\n",
       " 1.0178504025697377)"
      ]
     },
     "execution_count": 25,
     "metadata": {},
     "output_type": "execute_result"
    }
   ],
   "source": [
    "SSE, ESS, TSS, MSE, RMSE = evaluate.regression_errors(tips.tip, tips.yhat)\n",
    "SSE, ESS, TSS, MSE, RMSE"
   ]
  },
  {
   "cell_type": "code",
   "execution_count": 26,
   "id": "34db9ff6",
   "metadata": {},
   "outputs": [
    {
     "data": {
      "text/plain": [
       "(465.21247704918085, 1.906608512496641, 1.3807999538298954)"
      ]
     },
     "execution_count": 26,
     "metadata": {},
     "output_type": "execute_result"
    }
   ],
   "source": [
    "SSE_base, MSE_base, RMSE_base = evaluate.baseline_mean_errors(tips.tip)\n",
    "SSE_base, MSE_base, RMSE_base"
   ]
  },
  {
   "cell_type": "code",
   "execution_count": 27,
   "id": "55899b70",
   "metadata": {},
   "outputs": [
    {
     "data": {
      "text/plain": [
       "True"
      ]
     },
     "execution_count": 27,
     "metadata": {},
     "output_type": "execute_result"
    }
   ],
   "source": [
    "evaluate.better_than_baseline(tips.tip, tips.yhat)"
   ]
  },
  {
   "cell_type": "code",
   "execution_count": 28,
   "id": "377b5eb2",
   "metadata": {},
   "outputs": [],
   "source": [
    "# 10. Load the mpg dataset and fit a model that predicts highway mileage based on engine displacement.\n",
    "# Take a look at regression metrics using evaluate.py functions to determine if model performs better than baseline."
   ]
  },
  {
   "cell_type": "code",
   "execution_count": 29,
   "id": "d8d3d0f7",
   "metadata": {},
   "outputs": [],
   "source": [
    "# Obtain mpg data\n",
    "mpg = data('mpg')"
   ]
  },
  {
   "cell_type": "code",
   "execution_count": 36,
   "id": "68d3a2fe",
   "metadata": {},
   "outputs": [],
   "source": [
    "# Create and fit our model\n",
    "reg_model = LinearRegression().fit(mpg[['displ']], mpg.hwy)"
   ]
  },
  {
   "cell_type": "code",
   "execution_count": 38,
   "id": "3ecf8e38",
   "metadata": {},
   "outputs": [
    {
     "data": {
      "text/plain": [
       "1      29\n",
       "2      29\n",
       "3      31\n",
       "4      30\n",
       "5      26\n",
       "       ..\n",
       "230    28\n",
       "231    29\n",
       "232    26\n",
       "233    26\n",
       "234    26\n",
       "Name: hwy, Length: 234, dtype: int64"
      ]
     },
     "execution_count": 38,
     "metadata": {},
     "output_type": "execute_result"
    }
   ],
   "source": [
    "y = mpg.hwy\n",
    "y"
   ]
  },
  {
   "cell_type": "code",
   "execution_count": 39,
   "id": "9dbb8467",
   "metadata": {},
   "outputs": [],
   "source": [
    "yhat = reg_model.predict(mpg[['displ']])"
   ]
  },
  {
   "cell_type": "code",
   "execution_count": 40,
   "id": "0f59dc46",
   "metadata": {},
   "outputs": [
    {
     "data": {
      "text/plain": [
       "array([29.3425912 , 29.3425912 , 28.63647344, 28.63647344, 25.81200239,\n",
       "       25.81200239, 24.75282575, 29.3425912 , 29.3425912 , 28.63647344,\n",
       "       28.63647344, 25.81200239, 25.81200239, 24.75282575, 24.75282575,\n",
       "       25.81200239, 24.75282575, 20.86917807, 16.98553038, 16.98553038,\n",
       "       16.98553038, 15.57329486, 14.51411821, 15.57329486, 15.57329486,\n",
       "       13.80800045, 13.80800045, 10.98352941, 16.98553038, 16.98553038,\n",
       "       15.57329486, 12.74882381, 27.22423792, 27.22423792, 24.75282575,\n",
       "       23.34059023, 22.98753135, 27.22423792, 25.10588463, 24.04670799,\n",
       "       24.04670799, 24.04670799, 24.04670799, 24.04670799, 22.28141359,\n",
       "       22.28141359, 22.28141359, 21.57529583, 22.63447247, 22.63447247,\n",
       "       21.92835471, 21.92835471, 19.10388366, 19.10388366, 19.10388366,\n",
       "       17.33858926, 17.33858926, 21.92835471, 19.10388366, 19.10388366,\n",
       "       19.10388366, 17.33858926, 15.57329486, 14.8671771 , 19.10388366,\n",
       "       19.10388366, 19.10388366, 19.10388366, 19.10388366, 19.10388366,\n",
       "       17.33858926, 17.33858926, 15.57329486, 14.8671771 , 19.45694254,\n",
       "       16.6324715 , 16.6324715 , 21.57529583, 21.57529583, 21.57529583,\n",
       "       21.57529583, 19.45694254, 18.04470702, 20.86917807, 20.86917807,\n",
       "       19.45694254, 19.45694254, 19.45694254, 16.6324715 , 16.6324715 ,\n",
       "       22.28141359, 22.28141359, 21.57529583, 21.57529583, 19.45694254,\n",
       "       19.45694254, 19.45694254, 19.45694254, 16.6324715 , 30.04870896,\n",
       "       30.04870896, 30.04870896, 30.04870896, 30.04870896, 29.3425912 ,\n",
       "       29.3425912 , 29.3425912 , 28.63647344, 27.22423792, 27.22423792,\n",
       "       27.22423792, 27.22423792, 26.87117904, 26.87117904, 24.04670799,\n",
       "       28.63647344, 28.63647344, 28.63647344, 28.63647344, 26.16506128,\n",
       "       26.16506128, 26.16506128, 25.10588463, 22.63447247, 21.57529583,\n",
       "       19.10388366, 19.10388366, 19.10388366, 15.57329486, 14.16105933,\n",
       "       21.57529583, 20.86917807, 20.1630603 , 19.45694254, 16.6324715 ,\n",
       "       16.6324715 , 16.6324715 , 21.57529583, 21.57529583, 19.45694254,\n",
       "       18.04470702, 27.22423792, 27.22423792, 26.87117904, 26.87117904,\n",
       "       23.34059023, 23.34059023, 25.10588463, 25.10588463, 23.34059023,\n",
       "       24.04670799, 24.04670799, 21.57529583, 15.92635374, 24.75282575,\n",
       "       22.28141359, 22.28141359, 22.28141359, 16.98553038, 26.87117904,\n",
       "       26.87117904, 26.87117904, 26.87117904, 26.87117904, 26.87117904,\n",
       "       27.93035568, 27.93035568, 26.87117904, 26.87117904, 26.87117904,\n",
       "       26.87117904, 26.87117904, 26.87117904, 26.16506128, 26.16506128,\n",
       "       23.69364911, 23.69364911, 21.57529583, 19.10388366, 27.93035568,\n",
       "       27.93035568, 27.22423792, 27.22423792, 25.10588463, 25.10588463,\n",
       "       23.34059023, 27.93035568, 27.93035568, 27.22423792, 27.22423792,\n",
       "       25.10588463, 25.10588463, 24.04670799, 29.3425912 , 29.3425912 ,\n",
       "       29.3425912 , 29.3425912 , 29.3425912 , 19.10388366, 15.57329486,\n",
       "       26.16506128, 26.16506128, 26.16506128, 23.69364911, 23.69364911,\n",
       "       21.57529583, 21.57529583, 28.63647344, 28.63647344, 28.63647344,\n",
       "       28.63647344, 25.81200239, 28.98953232, 28.63647344, 28.63647344,\n",
       "       28.63647344, 28.63647344, 26.87117904, 26.87117904, 25.81200239,\n",
       "       25.81200239, 28.98953232, 28.98953232, 28.63647344, 28.63647344,\n",
       "       26.87117904, 26.87117904, 29.3425912 , 29.3425912 , 28.63647344,\n",
       "       28.63647344, 25.81200239, 25.81200239, 22.98753135])"
      ]
     },
     "execution_count": 40,
     "metadata": {},
     "output_type": "execute_result"
    }
   ],
   "source": [
    "yhat"
   ]
  },
  {
   "cell_type": "code",
   "execution_count": 43,
   "id": "3c4f9397",
   "metadata": {},
   "outputs": [],
   "source": [
    "SSE, ESS, TSS, MSE, RMSE = evaluate.regression_errors(y, yhat)"
   ]
  },
  {
   "cell_type": "code",
   "execution_count": 45,
   "id": "847fc49e",
   "metadata": {},
   "outputs": [
    {
     "data": {
      "text/plain": [
       "(3413.8290089954644,\n",
       " 4847.833384166925,\n",
       " 8261.662393162389,\n",
       " 14.589012858954987,\n",
       " 3.8195566312014524)"
      ]
     },
     "execution_count": 45,
     "metadata": {},
     "output_type": "execute_result"
    }
   ],
   "source": [
    "SSE, ESS, TSS, MSE, RMSE"
   ]
  },
  {
   "cell_type": "code",
   "execution_count": 47,
   "id": "2a05123c",
   "metadata": {},
   "outputs": [],
   "source": [
    "SSE_B, MSE_B, RMSE_B = evaluate.baseline_mean_errors(y)"
   ]
  },
  {
   "cell_type": "code",
   "execution_count": 48,
   "id": "f89b23d3",
   "metadata": {},
   "outputs": [
    {
     "data": {
      "text/plain": [
       "(8307, 35.5, 5.958187643906492)"
      ]
     },
     "execution_count": 48,
     "metadata": {},
     "output_type": "execute_result"
    }
   ],
   "source": [
    "SSE_B, MSE_B, RMSE_B"
   ]
  },
  {
   "cell_type": "code",
   "execution_count": 49,
   "id": "59b73769",
   "metadata": {},
   "outputs": [
    {
     "data": {
      "text/plain": [
       "True"
      ]
     },
     "execution_count": 49,
     "metadata": {},
     "output_type": "execute_result"
    }
   ],
   "source": [
    "evaluate.better_than_baseline(y, yhat)"
   ]
  },
  {
   "cell_type": "code",
   "execution_count": 50,
   "id": "68e3e263",
   "metadata": {},
   "outputs": [
    {
     "data": {
      "text/plain": [
       "<matplotlib.collections.PathCollection at 0x7fb7891e2730>"
      ]
     },
     "execution_count": 50,
     "metadata": {},
     "output_type": "execute_result"
    },
    {
     "data": {
      "image/png": "[encoded data removed]",
      "text/plain": [
       "<Figure size 1080x360 with 1 Axes>"
      ]
     },
     "metadata": {
      "needs_background": "light"
     },
     "output_type": "display_data"
    }
   ],
   "source": [
    "fig, ax = plt.subplots(figsize=(15,5))\n",
    "ax.scatter(mpg.displ, mpg.hwy, label='actual')\n",
    "ax.scatter(mpg.displ, yhat, label='prediction')"
   ]
  },
  {
   "cell_type": "code",
   "execution_count": 51,
   "id": "cb515d71",
   "metadata": {},
   "outputs": [
    {
     "data": {
      "text/plain": [
       "<matplotlib.collections.PathCollection at 0x7fb79bb55cd0>"
      ]
     },
     "execution_count": 51,
     "metadata": {},
     "output_type": "execute_result"
    },
    {
     "data": {
      "image/png": "[encoded data removed]",
      "text/plain": [
       "<Figure size 432x288 with 1 Axes>"
      ]
     },
     "metadata": {
      "needs_background": "light"
     },
     "output_type": "display_data"
    }
   ],
   "source": [
    "plt.scatter(mpg.hwy, y - yhat)"
   ]
  },
  {
   "cell_type": "code",
   "execution_count": 52,
   "id": "6c085ee3",
   "metadata": {},
   "outputs": [
    {
     "data": {
      "image/png": "[encoded data removed]",
      "text/plain": [
       "<Figure size 432x288 with 1 Axes>"
      ]
     },
     "metadata": {
      "needs_background": "light"
     },
     "output_type": "display_data"
    }
   ],
   "source": [
    "plt.hist(y - yhat, bins = 15)\n",
    "plt.show()"
   ]
  },
  {
   "cell_type": "code",
   "execution_count": 53,
   "id": "a5b1ff21",
   "metadata": {},
   "outputs": [],
   "source": [
    "# The model did perform better than baseline for all of our metrics. "
   ]
  },
  {
   "cell_type": "code",
   "execution_count": 54,
   "id": "5a2fdbfc",
   "metadata": {},
   "outputs": [
    {
     "data": {
      "text/plain": [
       "0.5867866723989039"
      ]
     },
     "execution_count": 54,
     "metadata": {},
     "output_type": "execute_result"
    }
   ],
   "source": [
    "r2_score(y, yhat)"
   ]
  },
  {
   "cell_type": "code",
   "execution_count": 55,
   "id": "3517c6ee",
   "metadata": {},
   "outputs": [
    {
     "data": {
      "text/plain": [
       "0.5867866723989039"
      ]
     },
     "execution_count": 55,
     "metadata": {},
     "output_type": "execute_result"
    }
   ],
   "source": [
    "explained_variance_score(y, yhat)"
   ]
  },
  {
   "cell_type": "code",
   "execution_count": null,
   "id": "7b3b51db",
   "metadata": {},
   "outputs": [],
   "source": []
  }
 ],
 "metadata": {
  "kernelspec": {
   "display_name": "Python 3.9.7 64-bit ('base': conda)",
   "language": "python",
   "name": "python397jvsc74a57bd038cca0c38332a56087b24af0bc80247f4fced29cb4f7f437d91dc159adec9c4e"
  },
  "language_info": {
   "codemirror_mode": {
    "name": "ipython",
    "version": 3
   },
   "file_extension": ".py",
   "mimetype": "text/x-python",
   "name": "python",
   "nbconvert_exporter": "python",
   "pygments_lexer": "ipython3",
   "version": "3.9.7"
  }
 },
 "nbformat": 4,
 "nbformat_minor": 5
}
