{
 "cells": [
  {
   "cell_type": "code",
   "execution_count": 1,
   "id": "2897cbda",
   "metadata": {},
   "outputs": [],
   "source": [
    "# os functions\n",
    "import os\n",
    "\n",
    "# local files\n",
    "from env import host, user, password\n",
    "import wrangle as w\n",
    "\n",
    "# df manipulations\n",
    "import pandas as pd\n",
    "import numpy as np\n",
    "\n",
    "# visualization\n",
    "import seaborn as sns\n",
    "%matplotlib inline\n",
    "import matplotlib.pyplot as plt\n",
    "\n",
    "from scipy import stats\n",
    "\n",
    "from sklearn.preprocessing import MinMaxScaler, StandardScaler, RobustScaler, QuantileTransformer \n",
    "from sklearn.model_selection import train_test_split\n",
    "from sklearn.impute import SimpleImputer\n",
    "\n",
    "import warnings\n",
    "warnings.filterwarnings(\"ignore\")\n",
    "\n",
    "np.random.seed(123)"
   ]
  },
  {
   "cell_type": "code",
   "execution_count": 2,
   "id": "2c3e37bc",
   "metadata": {},
   "outputs": [
    {
     "name": "stdout",
     "output_type": "stream",
     "text": [
      "Using cached csv\n"
     ]
    }
   ],
   "source": [
    "train, validate, test = w.wrangle_zillow()"
   ]
  },
  {
   "cell_type": "code",
   "execution_count": 3,
   "id": "2e3a41e0",
   "metadata": {},
   "outputs": [
    {
     "data": {
      "text/plain": [
       "((1038959, 7), (445269, 7), (371057, 7))"
      ]
     },
     "execution_count": 3,
     "metadata": {},
     "output_type": "execute_result"
    }
   ],
   "source": [
    "train.shape, validate.shape, test.shape"
   ]
  },
  {
   "cell_type": "code",
   "execution_count": 4,
   "id": "990d5183",
   "metadata": {},
   "outputs": [
    {
     "data": {
      "text/html": [
       "<div>\n",
       "<style scoped>\n",
       "    .dataframe tbody tr th:only-of-type {\n",
       "        vertical-align: middle;\n",
       "    }\n",
       "\n",
       "    .dataframe tbody tr th {\n",
       "        vertical-align: top;\n",
       "    }\n",
       "\n",
       "    .dataframe thead th {\n",
       "        text-align: right;\n",
       "    }\n",
       "</style>\n",
       "<table border=\"1\" class=\"dataframe\">\n",
       "  <thead>\n",
       "    <tr style=\"text-align: right;\">\n",
       "      <th></th>\n",
       "      <th>bedrooms</th>\n",
       "      <th>bathrooms</th>\n",
       "      <th>area</th>\n",
       "      <th>tax_value</th>\n",
       "      <th>year_built</th>\n",
       "      <th>taxamount</th>\n",
       "      <th>fips</th>\n",
       "    </tr>\n",
       "  </thead>\n",
       "  <tbody>\n",
       "    <tr>\n",
       "      <th>10057</th>\n",
       "      <td>4.0</td>\n",
       "      <td>2.0</td>\n",
       "      <td>1561.0</td>\n",
       "      <td>248240.0</td>\n",
       "      <td>1973.0</td>\n",
       "      <td>2504.40</td>\n",
       "      <td>06059</td>\n",
       "    </tr>\n",
       "    <tr>\n",
       "      <th>2004970</th>\n",
       "      <td>3.0</td>\n",
       "      <td>2.0</td>\n",
       "      <td>1770.0</td>\n",
       "      <td>88390.0</td>\n",
       "      <td>1960.0</td>\n",
       "      <td>1671.93</td>\n",
       "      <td>06037</td>\n",
       "    </tr>\n",
       "    <tr>\n",
       "      <th>306031</th>\n",
       "      <td>2.0</td>\n",
       "      <td>1.0</td>\n",
       "      <td>1452.0</td>\n",
       "      <td>81169.0</td>\n",
       "      <td>1946.0</td>\n",
       "      <td>1310.88</td>\n",
       "      <td>06037</td>\n",
       "    </tr>\n",
       "    <tr>\n",
       "      <th>1038595</th>\n",
       "      <td>3.0</td>\n",
       "      <td>1.0</td>\n",
       "      <td>1000.0</td>\n",
       "      <td>119174.0</td>\n",
       "      <td>1950.0</td>\n",
       "      <td>1900.28</td>\n",
       "      <td>06037</td>\n",
       "    </tr>\n",
       "    <tr>\n",
       "      <th>270959</th>\n",
       "      <td>3.0</td>\n",
       "      <td>2.0</td>\n",
       "      <td>1974.0</td>\n",
       "      <td>432268.0</td>\n",
       "      <td>1988.0</td>\n",
       "      <td>5315.27</td>\n",
       "      <td>06037</td>\n",
       "    </tr>\n",
       "  </tbody>\n",
       "</table>\n",
       "</div>"
      ],
      "text/plain": [
       "         bedrooms  bathrooms    area  tax_value  year_built  taxamount   fips\n",
       "10057         4.0        2.0  1561.0   248240.0      1973.0    2504.40  06059\n",
       "2004970       3.0        2.0  1770.0    88390.0      1960.0    1671.93  06037\n",
       "306031        2.0        1.0  1452.0    81169.0      1946.0    1310.88  06037\n",
       "1038595       3.0        1.0  1000.0   119174.0      1950.0    1900.28  06037\n",
       "270959        3.0        2.0  1974.0   432268.0      1988.0    5315.27  06037"
      ]
     },
     "execution_count": 4,
     "metadata": {},
     "output_type": "execute_result"
    }
   ],
   "source": [
    "train.head()"
   ]
  },
  {
   "cell_type": "code",
   "execution_count": 28,
   "id": "07289dd5",
   "metadata": {},
   "outputs": [
    {
     "data": {
      "text/plain": [
       "['bedrooms', 'bathrooms', 'area', 'year_built', 'taxamount']"
      ]
     },
     "execution_count": 28,
     "metadata": {},
     "output_type": "execute_result"
    }
   ],
   "source": [
    "# Let's get our columns we want to scale\n",
    "# Exclude our target variable (taxamount)\n",
    "features = [col for col in train.columns if col != 'tax_value']\n",
    "f_to_scale = [col for col in features if train[col].dtype != 'object']\n",
    "f_to_scale"
   ]
  },
  {
   "cell_type": "code",
   "execution_count": 29,
   "id": "6f2917b5",
   "metadata": {},
   "outputs": [],
   "source": [
    "# Create our x and y splits of our dataframes\n",
    "x_train = train[features]\n",
    "y_train = train['tax_value']\n",
    "\n",
    "x_validate = validate[features]\n",
    "y_validate = validate['tax_value']\n",
    "\n",
    "x_test = test[features]\n",
    "y_test = test['tax_value']"
   ]
  },
  {
   "cell_type": "markdown",
   "id": "a1166091",
   "metadata": {},
   "source": [
    "1. Apply the scalers we talked about in this lesson to your data and visualize the results for the unscaled and scaled distribution."
   ]
  },
  {
   "cell_type": "code",
   "execution_count": 30,
   "id": "32e746be",
   "metadata": {},
   "outputs": [],
   "source": [
    "scaler_minmax = MinMaxScaler()\n",
    "scaler_standard = StandardScaler()\n",
    "scaler_robust = RobustScaler()"
   ]
  },
  {
   "cell_type": "code",
   "execution_count": 31,
   "id": "c07e27cd",
   "metadata": {},
   "outputs": [
    {
     "data": {
      "text/plain": [
       "MinMaxScaler()"
      ]
     },
     "execution_count": 31,
     "metadata": {},
     "output_type": "execute_result"
    }
   ],
   "source": [
    "# Fit only to train data\n",
    "scaler_minmax.fit(x_train[f_to_scale])"
   ]
  },
  {
   "cell_type": "code",
   "execution_count": 32,
   "id": "12e0e6f9",
   "metadata": {},
   "outputs": [],
   "source": [
    "# Transform the x sets on the fit scaler\n",
    "x_train_scaled = scaler_minmax.transform(x_train[f_to_scale])\n",
    "x_validate_scaled = scaler_minmax.transform(x_validate[f_to_scale])\n",
    "x_test_scaled = scaler_minmax.transform(x_test[f_to_scale])"
   ]
  },
  {
   "cell_type": "code",
   "execution_count": 33,
   "id": "15516999",
   "metadata": {},
   "outputs": [
    {
     "data": {
      "text/plain": [
       "Text(0.5, 1.0, 'Scaled')"
      ]
     },
     "execution_count": 33,
     "metadata": {},
     "output_type": "execute_result"
    },
    {
     "data": {
      "image/png": "[encoded data removed]",
      "text/plain": [
       "<Figure size 936x504 with 2 Axes>"
      ]
     },
     "metadata": {
      "needs_background": "light"
     },
     "output_type": "display_data"
    }
   ],
   "source": [
    "plt.figure(figsize=(13,7))\n",
    "plt.subplot(121)\n",
    "plt.hist(x_train[f_to_scale], bins=25, ec='black')\n",
    "plt.title('Original')\n",
    "plt.subplot(122)\n",
    "plt.hist(x_train_scaled, bins=25, ec='black')\n",
    "plt.title('Scaled')"
   ]
  },
  {
   "cell_type": "code",
   "execution_count": null,
   "id": "f51fab20",
   "metadata": {},
   "outputs": [],
   "source": [
    "def scale_data(train, validate, test):\n",
    "    # Using MinMax Scaler for data\n",
    "    scaler = MinMaxScaler()\n",
    "    # Isolating our columns to scale based on numeric dtype \n",
    "    num_cols = train.select_dtypes('number').columns\n",
    "    \n",
    "    # Fit and transform "
   ]
  }
 ],
 "metadata": {
  "kernelspec": {
   "display_name": "Python 3.9.7 64-bit ('base': conda)",
   "language": "python",
   "name": "python397jvsc74a57bd038cca0c38332a56087b24af0bc80247f4fced29cb4f7f437d91dc159adec9c4e"
  },
  "language_info": {
   "codemirror_mode": {
    "name": "ipython",
    "version": 3
   },
   "file_extension": ".py",
   "mimetype": "text/x-python",
   "name": "python",
   "nbconvert_exporter": "python",
   "pygments_lexer": "ipython3",
   "version": "3.9.7"
  }
 },
 "nbformat": 4,
 "nbformat_minor": 5
}
