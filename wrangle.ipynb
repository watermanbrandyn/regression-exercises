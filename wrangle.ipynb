{
 "cells": [
  {
   "cell_type": "markdown",
   "id": "451420cd",
   "metadata": {},
   "source": [
    "Wrangle Module"
   ]
  },
  {
   "cell_type": "code",
   "execution_count": 67,
   "id": "7537fa68",
   "metadata": {},
   "outputs": [],
   "source": [
    "# os functions\n",
    "import os\n",
    "\n",
    "# local files\n",
    "from env import host, user, password\n",
    "import wrangle as w\n",
    "\n",
    "# df manipulations\n",
    "import pandas as pd\n",
    "import numpy as np\n",
    "\n",
    "# visualization\n",
    "import seaborn as sns\n",
    "import matplotlib.pyplot as plt\n",
    "\n",
    "from sklearn.model_selection import train_test_split\n",
    "from sklearn.impute import SimpleImputer\n",
    "\n",
    "import warnings\n",
    "warnings.filterwarnings(\"ignore\")"
   ]
  },
  {
   "cell_type": "code",
   "execution_count": 2,
   "id": "cfddbf17",
   "metadata": {},
   "outputs": [
    {
     "name": "stdout",
     "output_type": "stream",
     "text": [
      "Using cached csv\n"
     ]
    }
   ],
   "source": [
    "zillow = w.get_zillow_data()"
   ]
  },
  {
   "cell_type": "code",
   "execution_count": null,
   "id": "4399bf96",
   "metadata": {},
   "outputs": [],
   "source": [
    "# query = '''\n",
    "# SELECT bedroomcnt, bathroomcnt, calcuatedfinishedsquarefeet, taxvaluedollarcnt, yearbuilt, taxamount, fips\n",
    "# FROM properties_2017\n",
    "\n",
    "# LEFT JOIN propertylandusetype USING (propertylandusetypeid)\n",
    "\n",
    "# WHERE propertylandusedesc IN (\"Single Family Residential\", \"Inferred Single Family Residential\")\n",
    "\n",
    "# '''"
   ]
  },
  {
   "cell_type": "code",
   "execution_count": 3,
   "id": "f3b4bef2",
   "metadata": {},
   "outputs": [
    {
     "data": {
      "text/html": [
       "<div>\n",
       "<style scoped>\n",
       "    .dataframe tbody tr th:only-of-type {\n",
       "        vertical-align: middle;\n",
       "    }\n",
       "\n",
       "    .dataframe tbody tr th {\n",
       "        vertical-align: top;\n",
       "    }\n",
       "\n",
       "    .dataframe thead th {\n",
       "        text-align: right;\n",
       "    }\n",
       "</style>\n",
       "<table border=\"1\" class=\"dataframe\">\n",
       "  <thead>\n",
       "    <tr style=\"text-align: right;\">\n",
       "      <th></th>\n",
       "      <th>bedroomcnt</th>\n",
       "      <th>bathroomcnt</th>\n",
       "      <th>calculatedfinishedsquarefeet</th>\n",
       "      <th>taxvaluedollarcnt</th>\n",
       "      <th>yearbuilt</th>\n",
       "      <th>taxamount</th>\n",
       "      <th>fips</th>\n",
       "    </tr>\n",
       "  </thead>\n",
       "  <tbody>\n",
       "    <tr>\n",
       "      <th>0</th>\n",
       "      <td>0.0</td>\n",
       "      <td>0.0</td>\n",
       "      <td>NaN</td>\n",
       "      <td>27516.0</td>\n",
       "      <td>NaN</td>\n",
       "      <td>NaN</td>\n",
       "      <td>6037.0</td>\n",
       "    </tr>\n",
       "    <tr>\n",
       "      <th>1</th>\n",
       "      <td>0.0</td>\n",
       "      <td>0.0</td>\n",
       "      <td>NaN</td>\n",
       "      <td>10.0</td>\n",
       "      <td>NaN</td>\n",
       "      <td>NaN</td>\n",
       "      <td>6037.0</td>\n",
       "    </tr>\n",
       "    <tr>\n",
       "      <th>2</th>\n",
       "      <td>0.0</td>\n",
       "      <td>0.0</td>\n",
       "      <td>NaN</td>\n",
       "      <td>10.0</td>\n",
       "      <td>NaN</td>\n",
       "      <td>NaN</td>\n",
       "      <td>6037.0</td>\n",
       "    </tr>\n",
       "    <tr>\n",
       "      <th>3</th>\n",
       "      <td>0.0</td>\n",
       "      <td>0.0</td>\n",
       "      <td>NaN</td>\n",
       "      <td>2108.0</td>\n",
       "      <td>NaN</td>\n",
       "      <td>174.21</td>\n",
       "      <td>6037.0</td>\n",
       "    </tr>\n",
       "    <tr>\n",
       "      <th>4</th>\n",
       "      <td>4.0</td>\n",
       "      <td>2.0</td>\n",
       "      <td>3633.0</td>\n",
       "      <td>296425.0</td>\n",
       "      <td>2005.0</td>\n",
       "      <td>6941.39</td>\n",
       "      <td>6037.0</td>\n",
       "    </tr>\n",
       "  </tbody>\n",
       "</table>\n",
       "</div>"
      ],
      "text/plain": [
       "   bedroomcnt  bathroomcnt  calculatedfinishedsquarefeet  taxvaluedollarcnt  \\\n",
       "0         0.0          0.0                           NaN            27516.0   \n",
       "1         0.0          0.0                           NaN               10.0   \n",
       "2         0.0          0.0                           NaN               10.0   \n",
       "3         0.0          0.0                           NaN             2108.0   \n",
       "4         4.0          2.0                        3633.0           296425.0   \n",
       "\n",
       "   yearbuilt  taxamount    fips  \n",
       "0        NaN        NaN  6037.0  \n",
       "1        NaN        NaN  6037.0  \n",
       "2        NaN        NaN  6037.0  \n",
       "3        NaN     174.21  6037.0  \n",
       "4     2005.0    6941.39  6037.0  "
      ]
     },
     "execution_count": 3,
     "metadata": {},
     "output_type": "execute_result"
    }
   ],
   "source": [
    "zillow.head()"
   ]
  },
  {
   "cell_type": "code",
   "execution_count": 4,
   "id": "e50cb80f",
   "metadata": {},
   "outputs": [
    {
     "name": "stdout",
     "output_type": "stream",
     "text": [
      "<class 'pandas.core.frame.DataFrame'>\n",
      "RangeIndex: 2152864 entries, 0 to 2152863\n",
      "Data columns (total 7 columns):\n",
      " #   Column                        Dtype  \n",
      "---  ------                        -----  \n",
      " 0   bedroomcnt                    float64\n",
      " 1   bathroomcnt                   float64\n",
      " 2   calculatedfinishedsquarefeet  float64\n",
      " 3   taxvaluedollarcnt             float64\n",
      " 4   yearbuilt                     float64\n",
      " 5   taxamount                     float64\n",
      " 6   fips                          float64\n",
      "dtypes: float64(7)\n",
      "memory usage: 115.0 MB\n"
     ]
    }
   ],
   "source": [
    "zillow.info()"
   ]
  },
  {
   "cell_type": "code",
   "execution_count": 5,
   "id": "ad280289",
   "metadata": {},
   "outputs": [
    {
     "data": {
      "text/plain": [
       "(2152864, 7)"
      ]
     },
     "execution_count": 5,
     "metadata": {},
     "output_type": "execute_result"
    }
   ],
   "source": [
    "zillow.shape"
   ]
  },
  {
   "cell_type": "code",
   "execution_count": 6,
   "id": "61e72db5",
   "metadata": {},
   "outputs": [
    {
     "data": {
      "text/html": [
       "<div>\n",
       "<style scoped>\n",
       "    .dataframe tbody tr th:only-of-type {\n",
       "        vertical-align: middle;\n",
       "    }\n",
       "\n",
       "    .dataframe tbody tr th {\n",
       "        vertical-align: top;\n",
       "    }\n",
       "\n",
       "    .dataframe thead th {\n",
       "        text-align: right;\n",
       "    }\n",
       "</style>\n",
       "<table border=\"1\" class=\"dataframe\">\n",
       "  <thead>\n",
       "    <tr style=\"text-align: right;\">\n",
       "      <th></th>\n",
       "      <th>count</th>\n",
       "      <th>mean</th>\n",
       "      <th>std</th>\n",
       "      <th>min</th>\n",
       "      <th>25%</th>\n",
       "      <th>50%</th>\n",
       "      <th>75%</th>\n",
       "      <th>max</th>\n",
       "    </tr>\n",
       "  </thead>\n",
       "  <tbody>\n",
       "    <tr>\n",
       "      <th>bedroomcnt</th>\n",
       "      <td>2152853.0</td>\n",
       "      <td>3.287195</td>\n",
       "      <td>0.954757</td>\n",
       "      <td>0.00</td>\n",
       "      <td>3.0000</td>\n",
       "      <td>3.000</td>\n",
       "      <td>4.0000</td>\n",
       "      <td>25.00</td>\n",
       "    </tr>\n",
       "    <tr>\n",
       "      <th>bathroomcnt</th>\n",
       "      <td>2152853.0</td>\n",
       "      <td>2.230687</td>\n",
       "      <td>0.999281</td>\n",
       "      <td>0.00</td>\n",
       "      <td>2.0000</td>\n",
       "      <td>2.000</td>\n",
       "      <td>3.0000</td>\n",
       "      <td>32.00</td>\n",
       "    </tr>\n",
       "    <tr>\n",
       "      <th>calculatedfinishedsquarefeet</th>\n",
       "      <td>2144379.0</td>\n",
       "      <td>1862.855178</td>\n",
       "      <td>1222.125124</td>\n",
       "      <td>1.00</td>\n",
       "      <td>1257.0000</td>\n",
       "      <td>1623.000</td>\n",
       "      <td>2208.0000</td>\n",
       "      <td>952576.00</td>\n",
       "    </tr>\n",
       "    <tr>\n",
       "      <th>taxvaluedollarcnt</th>\n",
       "      <td>2152371.0</td>\n",
       "      <td>461896.052361</td>\n",
       "      <td>699675.940049</td>\n",
       "      <td>1.00</td>\n",
       "      <td>188170.0000</td>\n",
       "      <td>327671.000</td>\n",
       "      <td>534527.0000</td>\n",
       "      <td>98428909.00</td>\n",
       "    </tr>\n",
       "    <tr>\n",
       "      <th>yearbuilt</th>\n",
       "      <td>2143526.0</td>\n",
       "      <td>1960.949681</td>\n",
       "      <td>22.162196</td>\n",
       "      <td>1801.00</td>\n",
       "      <td>1949.0000</td>\n",
       "      <td>1958.000</td>\n",
       "      <td>1976.0000</td>\n",
       "      <td>2016.00</td>\n",
       "    </tr>\n",
       "    <tr>\n",
       "      <th>taxamount</th>\n",
       "      <td>2148422.0</td>\n",
       "      <td>5634.863752</td>\n",
       "      <td>8178.908996</td>\n",
       "      <td>1.85</td>\n",
       "      <td>2534.9725</td>\n",
       "      <td>4108.945</td>\n",
       "      <td>6414.3175</td>\n",
       "      <td>1337755.86</td>\n",
       "    </tr>\n",
       "    <tr>\n",
       "      <th>fips</th>\n",
       "      <td>2152864.0</td>\n",
       "      <td>6048.377330</td>\n",
       "      <td>20.433289</td>\n",
       "      <td>6037.00</td>\n",
       "      <td>6037.0000</td>\n",
       "      <td>6037.000</td>\n",
       "      <td>6059.0000</td>\n",
       "      <td>6111.00</td>\n",
       "    </tr>\n",
       "  </tbody>\n",
       "</table>\n",
       "</div>"
      ],
      "text/plain": [
       "                                  count           mean            std  \\\n",
       "bedroomcnt                    2152853.0       3.287195       0.954757   \n",
       "bathroomcnt                   2152853.0       2.230687       0.999281   \n",
       "calculatedfinishedsquarefeet  2144379.0    1862.855178    1222.125124   \n",
       "taxvaluedollarcnt             2152371.0  461896.052361  699675.940049   \n",
       "yearbuilt                     2143526.0    1960.949681      22.162196   \n",
       "taxamount                     2148422.0    5634.863752    8178.908996   \n",
       "fips                          2152864.0    6048.377330      20.433289   \n",
       "\n",
       "                                  min          25%         50%          75%  \\\n",
       "bedroomcnt                       0.00       3.0000       3.000       4.0000   \n",
       "bathroomcnt                      0.00       2.0000       2.000       3.0000   \n",
       "calculatedfinishedsquarefeet     1.00    1257.0000    1623.000    2208.0000   \n",
       "taxvaluedollarcnt                1.00  188170.0000  327671.000  534527.0000   \n",
       "yearbuilt                     1801.00    1949.0000    1958.000    1976.0000   \n",
       "taxamount                        1.85    2534.9725    4108.945    6414.3175   \n",
       "fips                          6037.00    6037.0000    6037.000    6059.0000   \n",
       "\n",
       "                                      max  \n",
       "bedroomcnt                          25.00  \n",
       "bathroomcnt                         32.00  \n",
       "calculatedfinishedsquarefeet    952576.00  \n",
       "taxvaluedollarcnt             98428909.00  \n",
       "yearbuilt                         2016.00  \n",
       "taxamount                      1337755.86  \n",
       "fips                              6111.00  "
      ]
     },
     "execution_count": 6,
     "metadata": {},
     "output_type": "execute_result"
    }
   ],
   "source": [
    "zillow.describe().T"
   ]
  },
  {
   "cell_type": "code",
   "execution_count": 7,
   "id": "70f1ac92",
   "metadata": {},
   "outputs": [
    {
     "data": {
      "text/plain": [
       "bedroomcnt                        11\n",
       "bathroomcnt                       11\n",
       "calculatedfinishedsquarefeet    8485\n",
       "taxvaluedollarcnt                493\n",
       "yearbuilt                       9338\n",
       "taxamount                       4442\n",
       "fips                               0\n",
       "dtype: int64"
      ]
     },
     "execution_count": 7,
     "metadata": {},
     "output_type": "execute_result"
    }
   ],
   "source": [
    "zillow.isnull().sum()"
   ]
  },
  {
   "cell_type": "code",
   "execution_count": null,
   "id": "d000b62b",
   "metadata": {},
   "outputs": [],
   "source": [
    "# df.info(null_counts=True)\n",
    "# df = df.rename(columns = {'bedroomcnt': 'bedrooms',\n",
    "#                         'bathroomcnt': 'bathrooms',\n",
    "#                          'calculatedfinishedsquarefeet': 'area',\n",
    "#                          'taxvaluedollarcnt': 'tax_value',\n",
    "#                          'yearbuilt': 'year_built'})"
   ]
  },
  {
   "cell_type": "code",
   "execution_count": 8,
   "id": "b8961ad9",
   "metadata": {},
   "outputs": [],
   "source": [
    "# oof, need to really consider how to handle the missing values for sqft, yearbuild, and taxamount"
   ]
  },
  {
   "cell_type": "code",
   "execution_count": 9,
   "id": "53bee6ea",
   "metadata": {},
   "outputs": [
    {
     "data": {
      "text/plain": [
       "bedroomcnt                       True\n",
       "bathroomcnt                      True\n",
       "calculatedfinishedsquarefeet     True\n",
       "taxvaluedollarcnt                True\n",
       "yearbuilt                        True\n",
       "taxamount                        True\n",
       "fips                            False\n",
       "dtype: bool"
      ]
     },
     "execution_count": 9,
     "metadata": {},
     "output_type": "execute_result"
    }
   ],
   "source": [
    "zillow.isnull().any()"
   ]
  },
  {
   "cell_type": "code",
   "execution_count": 10,
   "id": "36504918",
   "metadata": {},
   "outputs": [
    {
     "data": {
      "text/plain": [
       "24920.0       1\n",
       "10127.0       1\n",
       "35046.0       1\n",
       "8803.0        1\n",
       "16134.0       1\n",
       "           ... \n",
       "1400.0     3833\n",
       "1120.0     4362\n",
       "1080.0     4389\n",
       "1200.0     5195\n",
       "NaN        8485\n",
       "Name: calculatedfinishedsquarefeet, Length: 10581, dtype: int64"
      ]
     },
     "execution_count": 10,
     "metadata": {},
     "output_type": "execute_result"
    }
   ],
   "source": [
    "zillow.calculatedfinishedsquarefeet.value_counts(dropna=False, ascending=True)"
   ]
  },
  {
   "cell_type": "code",
   "execution_count": 11,
   "id": "4401072b",
   "metadata": {},
   "outputs": [
    {
     "data": {
      "text/plain": [
       "0.3941261500958723"
      ]
     },
     "execution_count": 11,
     "metadata": {},
     "output_type": "execute_result"
    }
   ],
   "source": [
    "8485 / 2152864 * 100"
   ]
  },
  {
   "cell_type": "code",
   "execution_count": 12,
   "id": "f64c34fa",
   "metadata": {},
   "outputs": [],
   "source": [
    "zillow2 = zillow.dropna()"
   ]
  },
  {
   "cell_type": "code",
   "execution_count": 13,
   "id": "95665704",
   "metadata": {},
   "outputs": [
    {
     "name": "stdout",
     "output_type": "stream",
     "text": [
      "<class 'pandas.core.frame.DataFrame'>\n",
      "Int64Index: 2140235 entries, 4 to 2152863\n",
      "Data columns (total 7 columns):\n",
      " #   Column                        Dtype  \n",
      "---  ------                        -----  \n",
      " 0   bedroomcnt                    float64\n",
      " 1   bathroomcnt                   float64\n",
      " 2   calculatedfinishedsquarefeet  float64\n",
      " 3   taxvaluedollarcnt             float64\n",
      " 4   yearbuilt                     float64\n",
      " 5   taxamount                     float64\n",
      " 6   fips                          float64\n",
      "dtypes: float64(7)\n",
      "memory usage: 130.6 MB\n"
     ]
    }
   ],
   "source": [
    "zillow2.info()"
   ]
  },
  {
   "cell_type": "code",
   "execution_count": 14,
   "id": "66c05836",
   "metadata": {},
   "outputs": [
    {
     "data": {
      "text/plain": [
       "99.413386075479"
      ]
     },
     "execution_count": 14,
     "metadata": {},
     "output_type": "execute_result"
    }
   ],
   "source": [
    "(2140235 / 2152864) * 100"
   ]
  },
  {
   "cell_type": "code",
   "execution_count": 15,
   "id": "0f596810",
   "metadata": {},
   "outputs": [],
   "source": [
    "# If we simply drop all NaN values we retain 99.4% of the data. This is worth consideration for solution to NaN\n",
    "# values"
   ]
  },
  {
   "cell_type": "code",
   "execution_count": 16,
   "id": "24c00139",
   "metadata": {},
   "outputs": [
    {
     "data": {
      "text/plain": [
       "12629"
      ]
     },
     "execution_count": 16,
     "metadata": {},
     "output_type": "execute_result"
    }
   ],
   "source": [
    "2152864 - 2140235"
   ]
  },
  {
   "cell_type": "code",
   "execution_count": 17,
   "id": "aa55530d",
   "metadata": {},
   "outputs": [],
   "source": [
    "# The NaN values are 'spread out' as in they're not just within the same rows"
   ]
  },
  {
   "cell_type": "code",
   "execution_count": 18,
   "id": "f1a2d1ee",
   "metadata": {},
   "outputs": [
    {
     "data": {
      "text/html": [
       "<div>\n",
       "<style scoped>\n",
       "    .dataframe tbody tr th:only-of-type {\n",
       "        vertical-align: middle;\n",
       "    }\n",
       "\n",
       "    .dataframe tbody tr th {\n",
       "        vertical-align: top;\n",
       "    }\n",
       "\n",
       "    .dataframe thead th {\n",
       "        text-align: right;\n",
       "    }\n",
       "</style>\n",
       "<table border=\"1\" class=\"dataframe\">\n",
       "  <thead>\n",
       "    <tr style=\"text-align: right;\">\n",
       "      <th></th>\n",
       "      <th>count</th>\n",
       "      <th>mean</th>\n",
       "      <th>std</th>\n",
       "      <th>min</th>\n",
       "      <th>25%</th>\n",
       "      <th>50%</th>\n",
       "      <th>75%</th>\n",
       "      <th>max</th>\n",
       "    </tr>\n",
       "  </thead>\n",
       "  <tbody>\n",
       "    <tr>\n",
       "      <th>bedroomcnt</th>\n",
       "      <td>2140235.0</td>\n",
       "      <td>3.301419</td>\n",
       "      <td>0.932600</td>\n",
       "      <td>0.00</td>\n",
       "      <td>3.00</td>\n",
       "      <td>3.00</td>\n",
       "      <td>4.00</td>\n",
       "      <td>25.00</td>\n",
       "    </tr>\n",
       "    <tr>\n",
       "      <th>bathroomcnt</th>\n",
       "      <td>2140235.0</td>\n",
       "      <td>2.240352</td>\n",
       "      <td>0.990549</td>\n",
       "      <td>0.00</td>\n",
       "      <td>2.00</td>\n",
       "      <td>2.00</td>\n",
       "      <td>3.00</td>\n",
       "      <td>32.00</td>\n",
       "    </tr>\n",
       "    <tr>\n",
       "      <th>calculatedfinishedsquarefeet</th>\n",
       "      <td>2140235.0</td>\n",
       "      <td>1863.193970</td>\n",
       "      <td>1221.754161</td>\n",
       "      <td>1.00</td>\n",
       "      <td>1258.00</td>\n",
       "      <td>1623.00</td>\n",
       "      <td>2208.00</td>\n",
       "      <td>952576.00</td>\n",
       "    </tr>\n",
       "    <tr>\n",
       "      <th>taxvaluedollarcnt</th>\n",
       "      <td>2140235.0</td>\n",
       "      <td>460641.625164</td>\n",
       "      <td>677157.635675</td>\n",
       "      <td>22.00</td>\n",
       "      <td>189166.00</td>\n",
       "      <td>328296.00</td>\n",
       "      <td>534606.00</td>\n",
       "      <td>90188462.00</td>\n",
       "    </tr>\n",
       "    <tr>\n",
       "      <th>yearbuilt</th>\n",
       "      <td>2140235.0</td>\n",
       "      <td>1960.967545</td>\n",
       "      <td>22.150563</td>\n",
       "      <td>1801.00</td>\n",
       "      <td>1949.00</td>\n",
       "      <td>1958.00</td>\n",
       "      <td>1976.00</td>\n",
       "      <td>2016.00</td>\n",
       "    </tr>\n",
       "    <tr>\n",
       "      <th>taxamount</th>\n",
       "      <td>2140235.0</td>\n",
       "      <td>5616.711322</td>\n",
       "      <td>7814.562798</td>\n",
       "      <td>6.34</td>\n",
       "      <td>2540.85</td>\n",
       "      <td>4111.47</td>\n",
       "      <td>6411.93</td>\n",
       "      <td>1078101.87</td>\n",
       "    </tr>\n",
       "    <tr>\n",
       "      <th>fips</th>\n",
       "      <td>2140235.0</td>\n",
       "      <td>6048.309556</td>\n",
       "      <td>20.344910</td>\n",
       "      <td>6037.00</td>\n",
       "      <td>6037.00</td>\n",
       "      <td>6037.00</td>\n",
       "      <td>6059.00</td>\n",
       "      <td>6111.00</td>\n",
       "    </tr>\n",
       "  </tbody>\n",
       "</table>\n",
       "</div>"
      ],
      "text/plain": [
       "                                  count           mean            std  \\\n",
       "bedroomcnt                    2140235.0       3.301419       0.932600   \n",
       "bathroomcnt                   2140235.0       2.240352       0.990549   \n",
       "calculatedfinishedsquarefeet  2140235.0    1863.193970    1221.754161   \n",
       "taxvaluedollarcnt             2140235.0  460641.625164  677157.635675   \n",
       "yearbuilt                     2140235.0    1960.967545      22.150563   \n",
       "taxamount                     2140235.0    5616.711322    7814.562798   \n",
       "fips                          2140235.0    6048.309556      20.344910   \n",
       "\n",
       "                                  min        25%        50%        75%  \\\n",
       "bedroomcnt                       0.00       3.00       3.00       4.00   \n",
       "bathroomcnt                      0.00       2.00       2.00       3.00   \n",
       "calculatedfinishedsquarefeet     1.00    1258.00    1623.00    2208.00   \n",
       "taxvaluedollarcnt               22.00  189166.00  328296.00  534606.00   \n",
       "yearbuilt                     1801.00    1949.00    1958.00    1976.00   \n",
       "taxamount                        6.34    2540.85    4111.47    6411.93   \n",
       "fips                          6037.00    6037.00    6037.00    6059.00   \n",
       "\n",
       "                                      max  \n",
       "bedroomcnt                          25.00  \n",
       "bathroomcnt                         32.00  \n",
       "calculatedfinishedsquarefeet    952576.00  \n",
       "taxvaluedollarcnt             90188462.00  \n",
       "yearbuilt                         2016.00  \n",
       "taxamount                      1078101.87  \n",
       "fips                              6111.00  "
      ]
     },
     "execution_count": 18,
     "metadata": {},
     "output_type": "execute_result"
    }
   ],
   "source": [
    "zillow2.describe().T"
   ]
  },
  {
   "cell_type": "code",
   "execution_count": 19,
   "id": "537bcdaa",
   "metadata": {},
   "outputs": [
    {
     "data": {
      "text/html": [
       "<div>\n",
       "<style scoped>\n",
       "    .dataframe tbody tr th:only-of-type {\n",
       "        vertical-align: middle;\n",
       "    }\n",
       "\n",
       "    .dataframe tbody tr th {\n",
       "        vertical-align: top;\n",
       "    }\n",
       "\n",
       "    .dataframe thead th {\n",
       "        text-align: right;\n",
       "    }\n",
       "</style>\n",
       "<table border=\"1\" class=\"dataframe\">\n",
       "  <thead>\n",
       "    <tr style=\"text-align: right;\">\n",
       "      <th></th>\n",
       "      <th>count</th>\n",
       "      <th>mean</th>\n",
       "      <th>std</th>\n",
       "      <th>min</th>\n",
       "      <th>25%</th>\n",
       "      <th>50%</th>\n",
       "      <th>75%</th>\n",
       "      <th>max</th>\n",
       "    </tr>\n",
       "  </thead>\n",
       "  <tbody>\n",
       "    <tr>\n",
       "      <th>bedroomcnt</th>\n",
       "      <td>2152853.0</td>\n",
       "      <td>3.287195</td>\n",
       "      <td>0.954757</td>\n",
       "      <td>0.00</td>\n",
       "      <td>3.0000</td>\n",
       "      <td>3.000</td>\n",
       "      <td>4.0000</td>\n",
       "      <td>25.00</td>\n",
       "    </tr>\n",
       "    <tr>\n",
       "      <th>bathroomcnt</th>\n",
       "      <td>2152853.0</td>\n",
       "      <td>2.230687</td>\n",
       "      <td>0.999281</td>\n",
       "      <td>0.00</td>\n",
       "      <td>2.0000</td>\n",
       "      <td>2.000</td>\n",
       "      <td>3.0000</td>\n",
       "      <td>32.00</td>\n",
       "    </tr>\n",
       "    <tr>\n",
       "      <th>calculatedfinishedsquarefeet</th>\n",
       "      <td>2144379.0</td>\n",
       "      <td>1862.855178</td>\n",
       "      <td>1222.125124</td>\n",
       "      <td>1.00</td>\n",
       "      <td>1257.0000</td>\n",
       "      <td>1623.000</td>\n",
       "      <td>2208.0000</td>\n",
       "      <td>952576.00</td>\n",
       "    </tr>\n",
       "    <tr>\n",
       "      <th>taxvaluedollarcnt</th>\n",
       "      <td>2152371.0</td>\n",
       "      <td>461896.052361</td>\n",
       "      <td>699675.940049</td>\n",
       "      <td>1.00</td>\n",
       "      <td>188170.0000</td>\n",
       "      <td>327671.000</td>\n",
       "      <td>534527.0000</td>\n",
       "      <td>98428909.00</td>\n",
       "    </tr>\n",
       "    <tr>\n",
       "      <th>yearbuilt</th>\n",
       "      <td>2143526.0</td>\n",
       "      <td>1960.949681</td>\n",
       "      <td>22.162196</td>\n",
       "      <td>1801.00</td>\n",
       "      <td>1949.0000</td>\n",
       "      <td>1958.000</td>\n",
       "      <td>1976.0000</td>\n",
       "      <td>2016.00</td>\n",
       "    </tr>\n",
       "    <tr>\n",
       "      <th>taxamount</th>\n",
       "      <td>2148422.0</td>\n",
       "      <td>5634.863752</td>\n",
       "      <td>8178.908996</td>\n",
       "      <td>1.85</td>\n",
       "      <td>2534.9725</td>\n",
       "      <td>4108.945</td>\n",
       "      <td>6414.3175</td>\n",
       "      <td>1337755.86</td>\n",
       "    </tr>\n",
       "    <tr>\n",
       "      <th>fips</th>\n",
       "      <td>2152864.0</td>\n",
       "      <td>6048.377330</td>\n",
       "      <td>20.433289</td>\n",
       "      <td>6037.00</td>\n",
       "      <td>6037.0000</td>\n",
       "      <td>6037.000</td>\n",
       "      <td>6059.0000</td>\n",
       "      <td>6111.00</td>\n",
       "    </tr>\n",
       "  </tbody>\n",
       "</table>\n",
       "</div>"
      ],
      "text/plain": [
       "                                  count           mean            std  \\\n",
       "bedroomcnt                    2152853.0       3.287195       0.954757   \n",
       "bathroomcnt                   2152853.0       2.230687       0.999281   \n",
       "calculatedfinishedsquarefeet  2144379.0    1862.855178    1222.125124   \n",
       "taxvaluedollarcnt             2152371.0  461896.052361  699675.940049   \n",
       "yearbuilt                     2143526.0    1960.949681      22.162196   \n",
       "taxamount                     2148422.0    5634.863752    8178.908996   \n",
       "fips                          2152864.0    6048.377330      20.433289   \n",
       "\n",
       "                                  min          25%         50%          75%  \\\n",
       "bedroomcnt                       0.00       3.0000       3.000       4.0000   \n",
       "bathroomcnt                      0.00       2.0000       2.000       3.0000   \n",
       "calculatedfinishedsquarefeet     1.00    1257.0000    1623.000    2208.0000   \n",
       "taxvaluedollarcnt                1.00  188170.0000  327671.000  534527.0000   \n",
       "yearbuilt                     1801.00    1949.0000    1958.000    1976.0000   \n",
       "taxamount                        1.85    2534.9725    4108.945    6414.3175   \n",
       "fips                          6037.00    6037.0000    6037.000    6059.0000   \n",
       "\n",
       "                                      max  \n",
       "bedroomcnt                          25.00  \n",
       "bathroomcnt                         32.00  \n",
       "calculatedfinishedsquarefeet    952576.00  \n",
       "taxvaluedollarcnt             98428909.00  \n",
       "yearbuilt                         2016.00  \n",
       "taxamount                      1337755.86  \n",
       "fips                              6111.00  "
      ]
     },
     "execution_count": 19,
     "metadata": {},
     "output_type": "execute_result"
    }
   ],
   "source": [
    "zillow.describe().T"
   ]
  },
  {
   "cell_type": "code",
   "execution_count": 20,
   "id": "d1fb949b",
   "metadata": {},
   "outputs": [],
   "source": [
    "# Dropping all NaN does not substantially change any of the averages, and actually removes our max house\n",
    "# that appeared to be somewhat of an outlier for value"
   ]
  },
  {
   "cell_type": "code",
   "execution_count": 21,
   "id": "a8007712",
   "metadata": {},
   "outputs": [
    {
     "data": {
      "text/plain": [
       "3.0     962944\n",
       "4.0     633608\n",
       "2.0     334221\n",
       "5.0     150671\n",
       "6.0      25117\n",
       "1.0      22895\n",
       "7.0       4792\n",
       "0.0       4397\n",
       "8.0       1103\n",
       "9.0        290\n",
       "10.0       118\n",
       "11.0        34\n",
       "13.0        15\n",
       "12.0        12\n",
       "14.0         7\n",
       "15.0         5\n",
       "18.0         3\n",
       "16.0         2\n",
       "25.0         1\n",
       "Name: bedroomcnt, dtype: int64"
      ]
     },
     "execution_count": 21,
     "metadata": {},
     "output_type": "execute_result"
    }
   ],
   "source": [
    "zillow2.bedroomcnt.value_counts()"
   ]
  },
  {
   "cell_type": "code",
   "execution_count": 22,
   "id": "92f7fc49",
   "metadata": {},
   "outputs": [
    {
     "name": "stderr",
     "output_type": "stream",
     "text": [
      "/opt/homebrew/anaconda3/lib/python3.9/site-packages/pandas/core/generic.py:5516: SettingWithCopyWarning: \n",
      "A value is trying to be set on a copy of a slice from a DataFrame.\n",
      "Try using .loc[row_indexer,col_indexer] = value instead\n",
      "\n",
      "See the caveats in the documentation: https://pandas.pydata.org/pandas-docs/stable/user_guide/indexing.html#returning-a-view-versus-a-copy\n",
      "  self[name] = value\n"
     ]
    }
   ],
   "source": [
    "zillow2.bedroomcnt = zillow2.bedroomcnt.astype(int)"
   ]
  },
  {
   "cell_type": "code",
   "execution_count": 23,
   "id": "4b103b34",
   "metadata": {},
   "outputs": [
    {
     "data": {
      "text/plain": [
       "2.00     942463\n",
       "3.00     422398\n",
       "1.00     412582\n",
       "2.50     142827\n",
       "4.00      82039\n",
       "1.50      31157\n",
       "3.50      28464\n",
       "5.00      28306\n",
       "4.50      19474\n",
       "6.00      10717\n",
       "5.50       6201\n",
       "7.00       4381\n",
       "0.00       4274\n",
       "8.00       1681\n",
       "6.50       1330\n",
       "9.00        707\n",
       "7.50        382\n",
       "10.00       322\n",
       "11.00       145\n",
       "8.50        108\n",
       "12.00        73\n",
       "9.50         50\n",
       "13.00        39\n",
       "14.00        25\n",
       "15.00        17\n",
       "0.50         16\n",
       "10.50        14\n",
       "16.00        12\n",
       "18.00         8\n",
       "20.00         6\n",
       "17.00         4\n",
       "1.75          3\n",
       "12.50         3\n",
       "11.50         3\n",
       "19.50         1\n",
       "14.50         1\n",
       "32.00         1\n",
       "19.00         1\n",
       "Name: bathroomcnt, dtype: int64"
      ]
     },
     "execution_count": 23,
     "metadata": {},
     "output_type": "execute_result"
    }
   ],
   "source": [
    "zillow2.bathroomcnt.value_counts()"
   ]
  },
  {
   "cell_type": "code",
   "execution_count": 24,
   "id": "d28ee57b",
   "metadata": {},
   "outputs": [
    {
     "data": {
      "text/plain": [
       "1955.0    84329\n",
       "1950.0    71606\n",
       "1954.0    69069\n",
       "1953.0    62270\n",
       "1956.0    61858\n",
       "          ...  \n",
       "1855.0        1\n",
       "1879.0        1\n",
       "1833.0        1\n",
       "1840.0        1\n",
       "1874.0        1\n",
       "Name: yearbuilt, Length: 153, dtype: int64"
      ]
     },
     "execution_count": 24,
     "metadata": {},
     "output_type": "execute_result"
    }
   ],
   "source": [
    "zillow2.yearbuilt.value_counts()"
   ]
  },
  {
   "cell_type": "code",
   "execution_count": 25,
   "id": "fd0586f5",
   "metadata": {},
   "outputs": [],
   "source": [
    "zillow2.yearbuilt = zillow2.yearbuilt.astype(int)"
   ]
  },
  {
   "cell_type": "code",
   "execution_count": 26,
   "id": "3496f5df",
   "metadata": {},
   "outputs": [
    {
     "data": {
      "text/plain": [
       "6037.0    1425207\n",
       "6059.0     552057\n",
       "6111.0     162971\n",
       "Name: fips, dtype: int64"
      ]
     },
     "execution_count": 26,
     "metadata": {},
     "output_type": "execute_result"
    }
   ],
   "source": [
    "zillow2.fips.value_counts()"
   ]
  },
  {
   "cell_type": "code",
   "execution_count": 27,
   "id": "62c6e16c",
   "metadata": {},
   "outputs": [],
   "source": [
    "zillow2.fips = zillow2.fips.astype(int)"
   ]
  },
  {
   "cell_type": "code",
   "execution_count": 28,
   "id": "64e77045",
   "metadata": {},
   "outputs": [
    {
     "name": "stdout",
     "output_type": "stream",
     "text": [
      "<class 'pandas.core.frame.DataFrame'>\n",
      "Int64Index: 2140235 entries, 4 to 2152863\n",
      "Data columns (total 7 columns):\n",
      " #   Column                        Dtype  \n",
      "---  ------                        -----  \n",
      " 0   bedroomcnt                    int64  \n",
      " 1   bathroomcnt                   float64\n",
      " 2   calculatedfinishedsquarefeet  float64\n",
      " 3   taxvaluedollarcnt             float64\n",
      " 4   yearbuilt                     int64  \n",
      " 5   taxamount                     float64\n",
      " 6   fips                          int64  \n",
      "dtypes: float64(4), int64(3)\n",
      "memory usage: 130.6 MB\n"
     ]
    }
   ],
   "source": [
    "zillow2.info()"
   ]
  },
  {
   "cell_type": "code",
   "execution_count": 29,
   "id": "8a01a647",
   "metadata": {},
   "outputs": [
    {
     "data": {
      "text/plain": [
       "1200.0     5184\n",
       "1080.0     4376\n",
       "1120.0     4354\n",
       "1400.0     3828\n",
       "1440.0     3684\n",
       "           ... \n",
       "10180.0       1\n",
       "13169.0       1\n",
       "9095.0        1\n",
       "10525.0       1\n",
       "24920.0       1\n",
       "Name: calculatedfinishedsquarefeet, Length: 10557, dtype: int64"
      ]
     },
     "execution_count": 29,
     "metadata": {},
     "output_type": "execute_result"
    }
   ],
   "source": [
    "zillow2.calculatedfinishedsquarefeet.value_counts()"
   ]
  },
  {
   "cell_type": "code",
   "execution_count": 30,
   "id": "3976ff66",
   "metadata": {},
   "outputs": [],
   "source": [
    "zillow2.calculatedfinishedsquarefeet = zillow2.calculatedfinishedsquarefeet.astype(int)"
   ]
  },
  {
   "cell_type": "code",
   "execution_count": 31,
   "id": "72a20b03",
   "metadata": {},
   "outputs": [
    {
     "name": "stdout",
     "output_type": "stream",
     "text": [
      "<class 'pandas.core.frame.DataFrame'>\n",
      "Int64Index: 2140235 entries, 4 to 2152863\n",
      "Data columns (total 7 columns):\n",
      " #   Column                        Dtype  \n",
      "---  ------                        -----  \n",
      " 0   bedroomcnt                    int64  \n",
      " 1   bathroomcnt                   float64\n",
      " 2   calculatedfinishedsquarefeet  int64  \n",
      " 3   taxvaluedollarcnt             float64\n",
      " 4   yearbuilt                     int64  \n",
      " 5   taxamount                     float64\n",
      " 6   fips                          int64  \n",
      "dtypes: float64(3), int64(4)\n",
      "memory usage: 130.6 MB\n"
     ]
    }
   ],
   "source": [
    "zillow2.info()"
   ]
  },
  {
   "cell_type": "code",
   "execution_count": 32,
   "id": "b4334371",
   "metadata": {},
   "outputs": [],
   "source": [
    "# Changed bedroomcnt, sqft, yearbuilt, and fips to int for more appropriate data types"
   ]
  },
  {
   "cell_type": "code",
   "execution_count": 33,
   "id": "684ba754",
   "metadata": {},
   "outputs": [
    {
     "name": "stderr",
     "output_type": "stream",
     "text": [
      "/opt/homebrew/anaconda3/lib/python3.9/site-packages/pandas/util/_decorators.py:311: SettingWithCopyWarning: \n",
      "A value is trying to be set on a copy of a slice from a DataFrame\n",
      "\n",
      "See the caveats in the documentation: https://pandas.pydata.org/pandas-docs/stable/user_guide/indexing.html#returning-a-view-versus-a-copy\n",
      "  return func(*args, **kwargs)\n"
     ]
    }
   ],
   "source": [
    "# Forgot to do this earlier\n",
    "zillow2.drop_duplicates(inplace=True)"
   ]
  },
  {
   "cell_type": "code",
   "execution_count": 34,
   "id": "79dd17f5",
   "metadata": {},
   "outputs": [
    {
     "name": "stdout",
     "output_type": "stream",
     "text": [
      "<class 'pandas.core.frame.DataFrame'>\n",
      "Int64Index: 2130214 entries, 4 to 2152863\n",
      "Data columns (total 7 columns):\n",
      " #   Column                        Dtype  \n",
      "---  ------                        -----  \n",
      " 0   bedroomcnt                    int64  \n",
      " 1   bathroomcnt                   float64\n",
      " 2   calculatedfinishedsquarefeet  int64  \n",
      " 3   taxvaluedollarcnt             float64\n",
      " 4   yearbuilt                     int64  \n",
      " 5   taxamount                     float64\n",
      " 6   fips                          int64  \n",
      "dtypes: float64(3), int64(4)\n",
      "memory usage: 130.0 MB\n"
     ]
    },
    {
     "data": {
      "text/plain": [
       "10021"
      ]
     },
     "execution_count": 34,
     "metadata": {},
     "output_type": "execute_result"
    }
   ],
   "source": [
    "# Resulted in dropping 10,021 duplicates\n",
    "zillow2.info()\n",
    "2140235 - 2130214"
   ]
  },
  {
   "cell_type": "code",
   "execution_count": 35,
   "id": "bfe8dfc2",
   "metadata": {},
   "outputs": [],
   "source": [
    "# Let's do a little bit of visualizations of the column distributions"
   ]
  },
  {
   "cell_type": "code",
   "execution_count": 36,
   "id": "b32f6034",
   "metadata": {},
   "outputs": [],
   "source": [
    "cols = zillow2.columns.values.tolist()\n",
    "# cols = list(zillow2)"
   ]
  },
  {
   "cell_type": "code",
   "execution_count": 37,
   "id": "cefbc50d",
   "metadata": {},
   "outputs": [
    {
     "data": {
      "text/plain": [
       "['bedroomcnt',\n",
       " 'bathroomcnt',\n",
       " 'calculatedfinishedsquarefeet',\n",
       " 'taxvaluedollarcnt',\n",
       " 'yearbuilt',\n",
       " 'taxamount',\n",
       " 'fips']"
      ]
     },
     "execution_count": 37,
     "metadata": {},
     "output_type": "execute_result"
    }
   ],
   "source": [
    "cols"
   ]
  },
  {
   "cell_type": "code",
   "execution_count": 38,
   "id": "ee16862a",
   "metadata": {},
   "outputs": [
    {
     "data": {
      "image/png": "[encoded data removed]",
      "text/plain": [
       "<Figure size 1440x1440 with 1 Axes>"
      ]
     },
     "metadata": {
      "needs_background": "light"
     },
     "output_type": "display_data"
    }
   ],
   "source": [
    "plt.figure(figsize=(20,20))\n",
    "sns.boxplot(data=zillow2)\n",
    "plt.show()"
   ]
  },
  {
   "cell_type": "code",
   "execution_count": 39,
   "id": "74d95609",
   "metadata": {},
   "outputs": [
    {
     "data": {
      "image/png": "[encoded data removed]",
      "text/plain": [
       "<Figure size 1440x720 with 1 Axes>"
      ]
     },
     "metadata": {
      "needs_background": "light"
     },
     "output_type": "display_data"
    },
    {
     "data": {
      "image/png": "[encoded data removed]",
      "text/plain": [
       "<Figure size 1440x720 with 1 Axes>"
      ]
     },
     "metadata": {
      "needs_background": "light"
     },
     "output_type": "display_data"
    },
    {
     "data": {
      "image/png": "[encoded data removed]",
      "text/plain": [
       "<Figure size 1440x720 with 1 Axes>"
      ]
     },
     "metadata": {
      "needs_background": "light"
     },
     "output_type": "display_data"
    },
    {
     "data": {
      "image/png": "[encoded data removed]",
      "text/plain": [
       "<Figure size 1440x720 with 1 Axes>"
      ]
     },
     "metadata": {
      "needs_background": "light"
     },
     "output_type": "display_data"
    },
    {
     "data": {
      "image/png": "[encoded data removed]",
      "text/plain": [
       "<Figure size 1440x720 with 1 Axes>"
      ]
     },
     "metadata": {
      "needs_background": "light"
     },
     "output_type": "display_data"
    },
    {
     "data": {
      "image/png": "[encoded data removed]",
      "text/plain": [
       "<Figure size 1440x720 with 1 Axes>"
      ]
     },
     "metadata": {
      "needs_background": "light"
     },
     "output_type": "display_data"
    },
    {
     "data": {
      "image/png": "[encoded data removed]",
      "text/plain": [
       "<Figure size 1440x720 with 1 Axes>"
      ]
     },
     "metadata": {
      "needs_background": "light"
     },
     "output_type": "display_data"
    }
   ],
   "source": [
    "for i, col in enumerate(cols):\n",
    "    plt.figure(figsize=(20,10))\n",
    "    plot_number = i + 1\n",
    "    plt.subplot(3, 3, plot_number)\n",
    "    plt.title(col)\n",
    "    zillow2[col].hist()\n",
    "    plt.grid(False)"
   ]
  },
  {
   "cell_type": "code",
   "execution_count": 40,
   "id": "50ffb038",
   "metadata": {},
   "outputs": [
    {
     "data": {
      "image/png": "[encoded data removed]",
      "text/plain": [
       "<Figure size 360x360 with 1 Axes>"
      ]
     },
     "metadata": {
      "needs_background": "light"
     },
     "output_type": "display_data"
    },
    {
     "data": {
      "image/png": "[encoded data removed]",
      "text/plain": [
       "<Figure size 360x360 with 1 Axes>"
      ]
     },
     "metadata": {
      "needs_background": "light"
     },
     "output_type": "display_data"
    },
    {
     "data": {
      "image/png": "[encoded data removed]",
      "text/plain": [
       "<Figure size 360x360 with 1 Axes>"
      ]
     },
     "metadata": {
      "needs_background": "light"
     },
     "output_type": "display_data"
    },
    {
     "data": {
      "image/png": "[encoded data removed]",
      "text/plain": [
       "<Figure size 360x360 with 1 Axes>"
      ]
     },
     "metadata": {
      "needs_background": "light"
     },
     "output_type": "display_data"
    },
    {
     "data": {
      "image/png": "[encoded data removed]",
      "text/plain": [
       "<Figure size 360x360 with 1 Axes>"
      ]
     },
     "metadata": {
      "needs_background": "light"
     },
     "output_type": "display_data"
    },
    {
     "data": {
      "image/png": "[encoded data removed]",
      "text/plain": [
       "<Figure size 360x360 with 1 Axes>"
      ]
     },
     "metadata": {
      "needs_background": "light"
     },
     "output_type": "display_data"
    },
    {
     "data": {
      "image/png": "[encoded data removed]",
      "text/plain": [
       "<Figure size 360x360 with 1 Axes>"
      ]
     },
     "metadata": {
      "needs_background": "light"
     },
     "output_type": "display_data"
    }
   ],
   "source": [
    "for col in cols:\n",
    "    sns.displot(zillow2, x=col, kind='kde')\n",
    "    plt.title(col)\n",
    "    plt.show()"
   ]
  },
  {
   "cell_type": "code",
   "execution_count": 41,
   "id": "6b300e98",
   "metadata": {},
   "outputs": [
    {
     "name": "stderr",
     "output_type": "stream",
     "text": [
      "/opt/homebrew/anaconda3/lib/python3.9/site-packages/pandas/core/generic.py:5516: SettingWithCopyWarning: \n",
      "A value is trying to be set on a copy of a slice from a DataFrame.\n",
      "Try using .loc[row_indexer,col_indexer] = value instead\n",
      "\n",
      "See the caveats in the documentation: https://pandas.pydata.org/pandas-docs/stable/user_guide/indexing.html#returning-a-view-versus-a-copy\n",
      "  self[name] = value\n"
     ]
    }
   ],
   "source": [
    "# Converting fips to a str is more appropriate than int\n",
    "zillow2.fips = zillow2.fips.astype(str)"
   ]
  },
  {
   "cell_type": "code",
   "execution_count": 42,
   "id": "920a99c0",
   "metadata": {},
   "outputs": [
    {
     "name": "stdout",
     "output_type": "stream",
     "text": [
      "<class 'pandas.core.frame.DataFrame'>\n",
      "Int64Index: 2130214 entries, 4 to 2152863\n",
      "Data columns (total 7 columns):\n",
      " #   Column                        Dtype  \n",
      "---  ------                        -----  \n",
      " 0   bedroomcnt                    int64  \n",
      " 1   bathroomcnt                   float64\n",
      " 2   calculatedfinishedsquarefeet  int64  \n",
      " 3   taxvaluedollarcnt             float64\n",
      " 4   yearbuilt                     int64  \n",
      " 5   taxamount                     float64\n",
      " 6   fips                          object \n",
      "dtypes: float64(3), int64(3), object(1)\n",
      "memory usage: 194.5+ MB\n"
     ]
    }
   ],
   "source": [
    "zillow2.info()"
   ]
  },
  {
   "cell_type": "code",
   "execution_count": 70,
   "id": "189422d7",
   "metadata": {},
   "outputs": [
    {
     "data": {
      "image/png": "[encoded data removed]",
      "text/plain": [
       "<Figure size 1152x216 with 6 Axes>"
      ]
     },
     "metadata": {
      "needs_background": "light"
     },
     "output_type": "display_data"
    }
   ],
   "source": [
    "plt.figure(figsize=(16,3))\n",
    "\n",
    "# List of columns\n",
    "cols = [col for col in zillow.columns if col not in ['fips', 'year_built']]\n",
    "\n",
    "for i, col in enumerate(cols):\n",
    "    # i starts at 0, but plot nos should start at 1\n",
    "    plot_number = i + 1\n",
    "    # Create subplot\n",
    "    plt.subplot(1, len(cols), plot_number)\n",
    "    # Title which column name\n",
    "    plt.title(col)\n",
    "    # Display histogram for column\n",
    "    zillow[col].hist(bins=5)\n",
    "    # Hide gridlines\n",
    "    plt.grid(False)\n",
    "    # turn off scientific notation\n",
    "    plt.ticklabel_format(useOffset=False)"
   ]
  },
  {
   "cell_type": "code",
   "execution_count": 72,
   "id": "88689f7e",
   "metadata": {},
   "outputs": [
    {
     "data": {
      "text/plain": [
       "<AxesSubplot:>"
      ]
     },
     "execution_count": 72,
     "metadata": {},
     "output_type": "execute_result"
    },
    {
     "data": {
      "image/png": "[encoded data removed]",
      "text/plain": [
       "<Figure size 432x288 with 1 Axes>"
      ]
     },
     "metadata": {
      "needs_background": "light"
     },
     "output_type": "display_data"
    }
   ],
   "source": [
    "# Looking at tax_value in closer detail\n",
    "zillow['taxvaluedollarcnt'].hist(bins=100)"
   ]
  },
  {
   "cell_type": "markdown",
   "id": "bd60c173",
   "metadata": {},
   "source": [
    "If we want to deal with any outliers\n",
    "- If we presume that we are going to use our data to build a model that focuses on median home values, then we can drop the outliers\n",
    "- May help with our null value issue"
   ]
  },
  {
   "cell_type": "code",
   "execution_count": 74,
   "id": "63cf0205",
   "metadata": {},
   "outputs": [],
   "source": [
    "def remove_outliers(df, k, col_list):\n",
    "    '''\n",
    "    remove outliers from a list of columns in a dataframe\n",
    "    and return that dataframe\n",
    "    '''\n",
    "    for col in col_list:\n",
    "        q1, q3 = df[col].quantile([.25, .75]) # get quartiles\n",
    "        iqr = q3 - q1 # calculate interquartile range\n",
    "        upper_bound = q3 + k * iqr # get upper bound\n",
    "        lower_bound = q1 - k * iqr # get lower bound\n",
    "        # return dataframe without outliers\n",
    "        df = df[(df[col] > lower_bound) & (df[col] < upper_bound)]\n",
    "        return df"
   ]
  },
  {
   "cell_type": "code",
   "execution_count": 75,
   "id": "ea0b04fa",
   "metadata": {},
   "outputs": [],
   "source": [
    "def remove_outliers_v2(df, k, col_list):\n",
    "    ''' remove outliers from a list of columns in a dataframe \n",
    "        and return that dataframe\n",
    "    '''\n",
    "    # Create a column that will label our rows as containing an outlier value or not\n",
    "    num_obs = df.shape[0]\n",
    "    df['outlier'] = False\n",
    "    for col in col_list:\n",
    "\n",
    "        q1, q3 = df[col].quantile([.25, .75])  # get quartiles\n",
    "        \n",
    "        iqr = q3 - q1   # calculate interquartile range\n",
    "        \n",
    "        upper_bound = q3 + k * iqr   # get upper bound\n",
    "        lower_bound = q1 - k * iqr   # get lower bound\n",
    "\n",
    "        # update the outlier label any time that the value is outside of boundaries\n",
    "        df['outlier'] = np.where(((df[col] < lower_bound) | (df[col] > upper_bound)) & (df.outlier == False), True, df.outlier)\n",
    "    \n",
    "    df = df[df.outlier == False]\n",
    "    df.drop(columns=['outlier'], inplace=True)\n",
    "    print(f\"Number of observations removed: {num_obs - df.shape[0]}\")\n",
    "        \n",
    "    return df"
   ]
  },
  {
   "cell_type": "code",
   "execution_count": 76,
   "id": "479713fb",
   "metadata": {},
   "outputs": [],
   "source": [
    "# df = remove_outliers(df, 1.5, ['bedrooms', 'bathrooms', 'area', 'tax_value', 'taxamount'])"
   ]
  },
  {
   "cell_type": "code",
   "execution_count": 43,
   "id": "715613a6",
   "metadata": {},
   "outputs": [
    {
     "data": {
      "text/plain": [
       "6037    1422505\n",
       "6059     546579\n",
       "6111     161130\n",
       "Name: fips, dtype: int64"
      ]
     },
     "execution_count": 43,
     "metadata": {},
     "output_type": "execute_result"
    }
   ],
   "source": [
    "\n",
    "zillow2.fips.value_counts()"
   ]
  },
  {
   "cell_type": "code",
   "execution_count": 44,
   "id": "784fbd14",
   "metadata": {},
   "outputs": [
    {
     "name": "stdout",
     "output_type": "stream",
     "text": [
      "<class 'pandas.core.frame.DataFrame'>\n",
      "Int64Index: 2130214 entries, 4 to 2152863\n",
      "Data columns (total 7 columns):\n",
      " #   Column                        Dtype  \n",
      "---  ------                        -----  \n",
      " 0   bedroomcnt                    int64  \n",
      " 1   bathroomcnt                   float64\n",
      " 2   calculatedfinishedsquarefeet  int64  \n",
      " 3   taxvaluedollarcnt             float64\n",
      " 4   yearbuilt                     int64  \n",
      " 5   taxamount                     float64\n",
      " 6   fips                          object \n",
      "dtypes: float64(3), int64(3), object(1)\n",
      "memory usage: 194.5+ MB\n"
     ]
    }
   ],
   "source": [
    "zillow2.info()"
   ]
  },
  {
   "cell_type": "code",
   "execution_count": 45,
   "id": "773b2912",
   "metadata": {},
   "outputs": [],
   "source": [
    "zillow2.fips = '0' + zillow2.fips"
   ]
  },
  {
   "cell_type": "code",
   "execution_count": 46,
   "id": "80a171e9",
   "metadata": {},
   "outputs": [
    {
     "data": {
      "text/plain": [
       "4     06037\n",
       "6     06037\n",
       "7     06037\n",
       "11    06037\n",
       "14    06037\n",
       "Name: fips, dtype: object"
      ]
     },
     "execution_count": 46,
     "metadata": {},
     "output_type": "execute_result"
    }
   ],
   "source": [
    "zillow2.fips.head()"
   ]
  },
  {
   "cell_type": "code",
   "execution_count": 47,
   "id": "f08ee103",
   "metadata": {},
   "outputs": [
    {
     "data": {
      "text/plain": [
       "06037    1422505\n",
       "06059     546579\n",
       "06111     161130\n",
       "Name: fips, dtype: int64"
      ]
     },
     "execution_count": 47,
     "metadata": {},
     "output_type": "execute_result"
    }
   ],
   "source": [
    "zillow2.fips.value_counts()"
   ]
  },
  {
   "cell_type": "code",
   "execution_count": 48,
   "id": "51895aeb",
   "metadata": {},
   "outputs": [],
   "source": [
    "#train, validate, test = w.prep_zillow(zillow)"
   ]
  },
  {
   "cell_type": "code",
   "execution_count": 49,
   "id": "7d33e69f",
   "metadata": {},
   "outputs": [],
   "source": [
    "#train.shape, validate.shape, test.shape"
   ]
  },
  {
   "cell_type": "code",
   "execution_count": 50,
   "id": "f0119609",
   "metadata": {},
   "outputs": [],
   "source": [
    "#train.head()"
   ]
  },
  {
   "cell_type": "code",
   "execution_count": 52,
   "id": "1fd85b53",
   "metadata": {},
   "outputs": [
    {
     "name": "stdout",
     "output_type": "stream",
     "text": [
      "Using cached csv\n"
     ]
    }
   ],
   "source": [
    "train, validate, test = w.wrangle_zillow()"
   ]
  },
  {
   "cell_type": "code",
   "execution_count": 53,
   "id": "4c33c3bb",
   "metadata": {},
   "outputs": [
    {
     "data": {
      "text/plain": [
       "((1192919, 9), (511252, 9), (426043, 9))"
      ]
     },
     "execution_count": 53,
     "metadata": {},
     "output_type": "execute_result"
    }
   ],
   "source": [
    "train.shape, validate.shape, test.shape"
   ]
  },
  {
   "cell_type": "code",
   "execution_count": 54,
   "id": "aa73622d",
   "metadata": {},
   "outputs": [
    {
     "data": {
      "text/html": [
       "<div>\n",
       "<style scoped>\n",
       "    .dataframe tbody tr th:only-of-type {\n",
       "        vertical-align: middle;\n",
       "    }\n",
       "\n",
       "    .dataframe tbody tr th {\n",
       "        vertical-align: top;\n",
       "    }\n",
       "\n",
       "    .dataframe thead th {\n",
       "        text-align: right;\n",
       "    }\n",
       "</style>\n",
       "<table border=\"1\" class=\"dataframe\">\n",
       "  <thead>\n",
       "    <tr style=\"text-align: right;\">\n",
       "      <th></th>\n",
       "      <th>bedroomcnt</th>\n",
       "      <th>bathroomcnt</th>\n",
       "      <th>calculatedfinishedsquarefeet</th>\n",
       "      <th>taxvaluedollarcnt</th>\n",
       "      <th>yearbuilt</th>\n",
       "      <th>taxamount</th>\n",
       "      <th>fips</th>\n",
       "      <th>fips_06059</th>\n",
       "      <th>fips_06111</th>\n",
       "    </tr>\n",
       "  </thead>\n",
       "  <tbody>\n",
       "    <tr>\n",
       "      <th>553191</th>\n",
       "      <td>4</td>\n",
       "      <td>2.0</td>\n",
       "      <td>1556</td>\n",
       "      <td>373090.0</td>\n",
       "      <td>1923</td>\n",
       "      <td>4579.25</td>\n",
       "      <td>06037</td>\n",
       "      <td>0</td>\n",
       "      <td>0</td>\n",
       "    </tr>\n",
       "    <tr>\n",
       "      <th>1209133</th>\n",
       "      <td>3</td>\n",
       "      <td>2.0</td>\n",
       "      <td>1513</td>\n",
       "      <td>74070.0</td>\n",
       "      <td>1937</td>\n",
       "      <td>986.55</td>\n",
       "      <td>06037</td>\n",
       "      <td>0</td>\n",
       "      <td>0</td>\n",
       "    </tr>\n",
       "    <tr>\n",
       "      <th>174634</th>\n",
       "      <td>4</td>\n",
       "      <td>2.0</td>\n",
       "      <td>2040</td>\n",
       "      <td>138000.0</td>\n",
       "      <td>1954</td>\n",
       "      <td>2553.05</td>\n",
       "      <td>06037</td>\n",
       "      <td>0</td>\n",
       "      <td>0</td>\n",
       "    </tr>\n",
       "    <tr>\n",
       "      <th>170584</th>\n",
       "      <td>3</td>\n",
       "      <td>2.0</td>\n",
       "      <td>1834</td>\n",
       "      <td>263870.0</td>\n",
       "      <td>1959</td>\n",
       "      <td>3139.76</td>\n",
       "      <td>06059</td>\n",
       "      <td>1</td>\n",
       "      <td>0</td>\n",
       "    </tr>\n",
       "    <tr>\n",
       "      <th>2001227</th>\n",
       "      <td>2</td>\n",
       "      <td>2.0</td>\n",
       "      <td>1225</td>\n",
       "      <td>335603.0</td>\n",
       "      <td>1975</td>\n",
       "      <td>3461.38</td>\n",
       "      <td>06059</td>\n",
       "      <td>1</td>\n",
       "      <td>0</td>\n",
       "    </tr>\n",
       "  </tbody>\n",
       "</table>\n",
       "</div>"
      ],
      "text/plain": [
       "         bedroomcnt  bathroomcnt  calculatedfinishedsquarefeet  \\\n",
       "553191            4          2.0                          1556   \n",
       "1209133           3          2.0                          1513   \n",
       "174634            4          2.0                          2040   \n",
       "170584            3          2.0                          1834   \n",
       "2001227           2          2.0                          1225   \n",
       "\n",
       "         taxvaluedollarcnt  yearbuilt  taxamount   fips  fips_06059  \\\n",
       "553191            373090.0       1923    4579.25  06037           0   \n",
       "1209133            74070.0       1937     986.55  06037           0   \n",
       "174634            138000.0       1954    2553.05  06037           0   \n",
       "170584            263870.0       1959    3139.76  06059           1   \n",
       "2001227           335603.0       1975    3461.38  06059           1   \n",
       "\n",
       "         fips_06111  \n",
       "553191            0  \n",
       "1209133           0  \n",
       "174634            0  \n",
       "170584            0  \n",
       "2001227           0  "
      ]
     },
     "execution_count": 54,
     "metadata": {},
     "output_type": "execute_result"
    }
   ],
   "source": [
    "train.head()"
   ]
  },
  {
   "cell_type": "code",
   "execution_count": 56,
   "id": "430e23b3",
   "metadata": {},
   "outputs": [
    {
     "data": {
      "text/plain": [
       "2.00     525611\n",
       "3.00     235732\n",
       "1.00     230359\n",
       "2.50      78927\n",
       "4.00      45826\n",
       "1.50      16954\n",
       "5.00      15790\n",
       "3.50      15771\n",
       "4.50      10914\n",
       "6.00       5965\n",
       "5.50       3459\n",
       "7.00       2473\n",
       "0.00       2340\n",
       "8.00        954\n",
       "6.50        750\n",
       "9.00        383\n",
       "7.50        220\n",
       "10.00       184\n",
       "11.00        77\n",
       "8.50         59\n",
       "12.00        47\n",
       "9.50         36\n",
       "13.00        26\n",
       "14.00        14\n",
       "0.50         11\n",
       "15.00         9\n",
       "10.50         8\n",
       "20.00         6\n",
       "16.00         5\n",
       "18.00         3\n",
       "17.00         3\n",
       "12.50         2\n",
       "1.75          1\n",
       "Name: bathroomcnt, dtype: int64"
      ]
     },
     "execution_count": 56,
     "metadata": {},
     "output_type": "execute_result"
    }
   ],
   "source": [
    "train.bathroomcnt.value_counts()"
   ]
  },
  {
   "cell_type": "code",
   "execution_count": 61,
   "id": "4ef2d218",
   "metadata": {},
   "outputs": [
    {
     "data": {
      "text/plain": [
       "3     536985\n",
       "4     353001\n",
       "2     186330\n",
       "5      83883\n",
       "6      14080\n",
       "1      12733\n",
       "7       2675\n",
       "0       2330\n",
       "8        647\n",
       "9        164\n",
       "10        56\n",
       "11        12\n",
       "13         8\n",
       "12         6\n",
       "14         5\n",
       "15         2\n",
       "16         1\n",
       "25         1\n",
       "Name: bedroomcnt, dtype: int64"
      ]
     },
     "execution_count": 61,
     "metadata": {},
     "output_type": "execute_result"
    }
   ],
   "source": [
    "train.bedroomcnt.value_counts()"
   ]
  },
  {
   "cell_type": "code",
   "execution_count": 60,
   "id": "57b7b0b2",
   "metadata": {},
   "outputs": [
    {
     "data": {
      "text/plain": [
       "bedroomcnt                      0\n",
       "bathroomcnt                     0\n",
       "calculatedfinishedsquarefeet    0\n",
       "taxvaluedollarcnt               0\n",
       "yearbuilt                       0\n",
       "taxamount                       0\n",
       "fips                            0\n",
       "fips_06059                      0\n",
       "fips_06111                      0\n",
       "dtype: int64"
      ]
     },
     "execution_count": 60,
     "metadata": {},
     "output_type": "execute_result"
    }
   ],
   "source": [
    "train.isnull().sum()"
   ]
  },
  {
   "cell_type": "code",
   "execution_count": 66,
   "id": "5eef6781",
   "metadata": {},
   "outputs": [
    {
     "data": {
      "text/plain": [
       "1200     2823\n",
       "1080     2443\n",
       "1120     2438\n",
       "1400     2149\n",
       "1440     2032\n",
       "         ... \n",
       "10605       1\n",
       "7947        1\n",
       "7146        1\n",
       "7423        1\n",
       "7979        1\n",
       "Name: calculatedfinishedsquarefeet, Length: 9417, dtype: int64"
      ]
     },
     "execution_count": 66,
     "metadata": {},
     "output_type": "execute_result"
    }
   ],
   "source": []
  },
  {
   "cell_type": "code",
   "execution_count": null,
   "id": "f6e44acb",
   "metadata": {},
   "outputs": [],
   "source": []
  }
 ],
 "metadata": {
  "kernelspec": {
   "display_name": "Python 3.9.7 64-bit ('base': conda)",
   "language": "python",
   "name": "python397jvsc74a57bd038cca0c38332a56087b24af0bc80247f4fced29cb4f7f437d91dc159adec9c4e"
  },
  "language_info": {
   "codemirror_mode": {
    "name": "ipython",
    "version": 3
   },
   "file_extension": ".py",
   "mimetype": "text/x-python",
   "name": "python",
   "nbconvert_exporter": "python",
   "pygments_lexer": "ipython3",
   "version": "3.9.7"
  }
 },
 "nbformat": 4,
 "nbformat_minor": 5
}
