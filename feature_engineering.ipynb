{
 "cells": [
  {
   "cell_type": "code",
   "execution_count": 27,
   "id": "c799baad",
   "metadata": {},
   "outputs": [],
   "source": [
    "# os functions\n",
    "import os\n",
    "\n",
    "# local files\n",
    "from env import host, user, password\n",
    "import wrangle as w\n",
    "\n",
    "# df manipulations\n",
    "import pandas as pd\n",
    "import numpy as np\n",
    "\n",
    "# visualization\n",
    "import seaborn as sns\n",
    "%matplotlib inline\n",
    "import matplotlib.pyplot as plt\n",
    "\n",
    "from scipy import stats\n",
    "from math import sqrt\n",
    "\n",
    "from sklearn.preprocessing import MinMaxScaler, StandardScaler, RobustScaler, QuantileTransformer \n",
    "from sklearn.model_selection import train_test_split\n",
    "from sklearn.impute import SimpleImputer\n",
    "\n",
    "from sklearn.linear_model import LinearRegression\n",
    "from sklearn.feature_selection import f_regression\n",
    "from sklearn.metrics import mean_squared_error, r2_score, explained_variance_score\n",
    "from sklearn.feature_selection import SelectKBest, RFE, SequentialFeatureSelector\n",
    "\n",
    "import warnings\n",
    "warnings.filterwarnings(\"ignore\")\n",
    "\n",
    "np.random.seed(123)\n",
    "\n",
    "import pydataset"
   ]
  },
  {
   "cell_type": "code",
   "execution_count": 2,
   "id": "70b73a62",
   "metadata": {},
   "outputs": [],
   "source": [
    "# 1. Load tips dataset\n",
    "from pydataset import data\n",
    "tips = data('tips')\n",
    "# A. Create a column price_per_person (total_bill / party size)\n",
    "tips['price_per_person'] = round((tips.total_bill / tips['size']), 2)"
   ]
  },
  {
   "cell_type": "code",
   "execution_count": 3,
   "id": "8e35e3d3",
   "metadata": {},
   "outputs": [
    {
     "name": "stdout",
     "output_type": "stream",
     "text": [
      "<class 'pandas.core.frame.DataFrame'>\n",
      "Int64Index: 244 entries, 1 to 244\n",
      "Data columns (total 8 columns):\n",
      " #   Column            Non-Null Count  Dtype  \n",
      "---  ------            --------------  -----  \n",
      " 0   total_bill        244 non-null    float64\n",
      " 1   tip               244 non-null    float64\n",
      " 2   sex               244 non-null    object \n",
      " 3   smoker            244 non-null    object \n",
      " 4   day               244 non-null    object \n",
      " 5   time              244 non-null    object \n",
      " 6   size              244 non-null    int64  \n",
      " 7   price_per_person  244 non-null    float64\n",
      "dtypes: float64(3), int64(1), object(4)\n",
      "memory usage: 17.2+ KB\n"
     ]
    },
    {
     "data": {
      "text/plain": [
       "(   total_bill   tip     sex smoker  day    time  size  price_per_person\n",
       " 1       16.99  1.01  Female     No  Sun  Dinner     2              8.49\n",
       " 2       10.34  1.66    Male     No  Sun  Dinner     3              3.45\n",
       " 3       21.01  3.50    Male     No  Sun  Dinner     3              7.00\n",
       " 4       23.68  3.31    Male     No  Sun  Dinner     2             11.84\n",
       " 5       24.59  3.61  Female     No  Sun  Dinner     4              6.15,\n",
       " None)"
      ]
     },
     "execution_count": 3,
     "metadata": {},
     "output_type": "execute_result"
    }
   ],
   "source": [
    "tips.head(), tips.info()"
   ]
  },
  {
   "cell_type": "code",
   "execution_count": 4,
   "id": "db5b8653",
   "metadata": {},
   "outputs": [
    {
     "data": {
      "text/plain": [
       "Sat     87\n",
       "Sun     76\n",
       "Thur    62\n",
       "Fri     19\n",
       "Name: day, dtype: int64"
      ]
     },
     "execution_count": 4,
     "metadata": {},
     "output_type": "execute_result"
    }
   ],
   "source": [
    "tips.day.value_counts()"
   ]
  },
  {
   "cell_type": "code",
   "execution_count": 5,
   "id": "e6f18b0f",
   "metadata": {},
   "outputs": [],
   "source": [
    "# One-hot Encode the cat_cols\n",
    "# tips.sex = tips.sex.map({'Male' : 0, 'Female' : 1})\n",
    "# tips.smoker = tips.smoker.map({'No' : 0, 'Yes' : 1})\n",
    "# tips.day = tips.day.map({'Thur' : 0, 'Fri' : 1, 'Sat' : 2, 'Sun' : 3})\n",
    "# tips.time = tips.time.map({'Lunch' : 0, 'Dinner' : 1})\n",
    "\n",
    "# cols = ['sex', 'smoker', 'day', 'time']\n",
    "# for col in cols:\n",
    "#     tips[col] = tips[col].astype(int)\n",
    "\n",
    "###### Above is wrong way to approach this need ####"
   ]
  },
  {
   "cell_type": "code",
   "execution_count": 5,
   "id": "73f3eb0a",
   "metadata": {},
   "outputs": [
    {
     "name": "stdout",
     "output_type": "stream",
     "text": [
      "<class 'pandas.core.frame.DataFrame'>\n",
      "Int64Index: 244 entries, 1 to 244\n",
      "Data columns (total 8 columns):\n",
      " #   Column            Non-Null Count  Dtype  \n",
      "---  ------            --------------  -----  \n",
      " 0   total_bill        244 non-null    float64\n",
      " 1   tip               244 non-null    float64\n",
      " 2   sex               244 non-null    object \n",
      " 3   smoker            244 non-null    object \n",
      " 4   day               244 non-null    object \n",
      " 5   time              244 non-null    object \n",
      " 6   size              244 non-null    int64  \n",
      " 7   price_per_person  244 non-null    float64\n",
      "dtypes: float64(3), int64(1), object(4)\n",
      "memory usage: 17.2+ KB\n"
     ]
    }
   ],
   "source": [
    "tips.info()"
   ]
  },
  {
   "cell_type": "code",
   "execution_count": 7,
   "id": "d440f422",
   "metadata": {},
   "outputs": [],
   "source": [
    "# # Data split\n",
    "# train_validate, test = train_test_split(tips, train_size= .8,\n",
    "#                                        random_state=123)\n",
    "# train, validate = train_test_split(train_validate, train_size = .7,\n",
    "#                                   random_state=123)"
   ]
  },
  {
   "cell_type": "code",
   "execution_count": 8,
   "id": "466a6dff",
   "metadata": {},
   "outputs": [
    {
     "name": "stdout",
     "output_type": "stream",
     "text": [
      "<class 'pandas.core.frame.DataFrame'>\n",
      "Int64Index: 136 entries, 19 to 167\n",
      "Data columns (total 8 columns):\n",
      " #   Column            Non-Null Count  Dtype  \n",
      "---  ------            --------------  -----  \n",
      " 0   total_bill        136 non-null    float64\n",
      " 1   tip               136 non-null    float64\n",
      " 2   sex               136 non-null    object \n",
      " 3   smoker            136 non-null    object \n",
      " 4   day               136 non-null    object \n",
      " 5   time              136 non-null    object \n",
      " 6   size              136 non-null    int64  \n",
      " 7   price_per_person  136 non-null    float64\n",
      "dtypes: float64(3), int64(1), object(4)\n",
      "memory usage: 9.6+ KB\n"
     ]
    }
   ],
   "source": [
    "train.info()"
   ]
  },
  {
   "cell_type": "markdown",
   "id": "3ca3be3d",
   "metadata": {},
   "source": [
    "B. Before using any of the methods discussed in the lesson, which features do you think would be most important for \n",
    "predicting tip amount?\n",
    "\n",
    "I think total_bill, time, and size will have the biggest impacts on tip"
   ]
  },
  {
   "cell_type": "code",
   "execution_count": 7,
   "id": "8d3e1891",
   "metadata": {},
   "outputs": [
    {
     "data": {
      "text/plain": [
       "SelectKBest(k=2, score_func=<function f_regression at 0x7fa3606fc3a0>)"
      ]
     },
     "execution_count": 7,
     "metadata": {},
     "output_type": "execute_result"
    }
   ],
   "source": [
    "# C. Use select K best to select the top 2 features for predicting tip amount, what are they?\n",
    "#train_x = train.drop(columns='tip')\n",
    "train_x = tips[['size', 'total_bill', 'price_per_person']]\n",
    "train_y = tips.tip\n",
    "\n",
    "# validate_x = validate.drop(columns='tip')\n",
    "# validate_y = validate.tip\n",
    "\n",
    "# test_x = test.drop(columns='tip')\n",
    "# test_y = test.tip\n",
    "\n",
    "\n",
    "kbest = SelectKBest(f_regression, k=2)\n",
    "kbest.fit(train_x, train_y)"
   ]
  },
  {
   "cell_type": "code",
   "execution_count": 8,
   "id": "8499116a",
   "metadata": {},
   "outputs": [
    {
     "data": {
      "text/plain": [
       "['size', 'total_bill']"
      ]
     },
     "execution_count": 8,
     "metadata": {},
     "output_type": "execute_result"
    }
   ],
   "source": [
    "feature_mask = kbest.get_support()\n",
    "features = train_x.iloc[:, feature_mask].columns.tolist()\n",
    "features"
   ]
  },
  {
   "cell_type": "code",
   "execution_count": 20,
   "id": "6b64f450",
   "metadata": {},
   "outputs": [],
   "source": [
    "# 2. select_kbest function\n",
    "def select_kbest(X, y, k):\n",
    "    kbest = SelectKBest(k=k)\n",
    "    kbest.fit(X,y)\n",
    "    mask = kbest.get_support()\n",
    "    return X.columns[mask]"
   ]
  },
  {
   "cell_type": "code",
   "execution_count": 21,
   "id": "b0797ad4",
   "metadata": {},
   "outputs": [
    {
     "data": {
      "text/plain": [
       "Index(['total_bill', 'size'], dtype='object')"
      ]
     },
     "execution_count": 21,
     "metadata": {},
     "output_type": "execute_result"
    }
   ],
   "source": [
    "select_kbest(tips[['total_bill', 'price_per_person', 'size']], tips.tip, 2)"
   ]
  },
  {
   "cell_type": "code",
   "execution_count": 33,
   "id": "17bf751b",
   "metadata": {},
   "outputs": [],
   "source": [
    "# 3. rfe function\n",
    "def rfe(X, y, k, model=LinearRegression()):\n",
    "    rfe = RFE(model, n_features_to_select=k)\n",
    "    rfe.fit(X, y)\n",
    "    mask = rfe.get_support()\n",
    "    return X.columns[mask]"
   ]
  },
  {
   "cell_type": "code",
   "execution_count": 22,
   "id": "5ba30a11",
   "metadata": {},
   "outputs": [
    {
     "data": {
      "text/plain": [
       "Index(['total_bill', 'price_per_person'], dtype='object')"
      ]
     },
     "execution_count": 22,
     "metadata": {},
     "output_type": "execute_result"
    }
   ],
   "source": [
    "rfe(tips[['total_bill', 'price_per_person', 'size']], tips.tip, 2)"
   ]
  },
  {
   "cell_type": "code",
   "execution_count": 23,
   "id": "fffd726e",
   "metadata": {},
   "outputs": [
    {
     "data": {
      "text/plain": [
       "RFE(estimator=LinearRegression(), n_features_to_select=4)"
      ]
     },
     "execution_count": 23,
     "metadata": {},
     "output_type": "execute_result"
    }
   ],
   "source": [
    "# D. Use recursive feature elimination to select the top 2 features for tip amount. What are they?\n",
    "lm = LinearRegression()\n",
    "rfe = RFE(lm, n_features_to_select=4)\n",
    "\n",
    "rfe.fit(train_x, train_y)"
   ]
  },
  {
   "cell_type": "code",
   "execution_count": 24,
   "id": "29e9f778",
   "metadata": {},
   "outputs": [
    {
     "data": {
      "text/plain": [
       "['size', 'total_bill', 'price_per_person']"
      ]
     },
     "execution_count": 24,
     "metadata": {},
     "output_type": "execute_result"
    }
   ],
   "source": [
    "feature_mask = rfe.support_\n",
    "rfe_feature = train_x.iloc[:, feature_mask].columns.tolist()\n",
    "rfe_feature"
   ]
  },
  {
   "cell_type": "markdown",
   "id": "fb98d9c8",
   "metadata": {},
   "source": [
    "E. Why do you think select k best and recursive feature elimination might give different answers for the top \n",
    "features? Does this change as you change the number of features you are selecting?\n",
    "\n",
    "RFE will go through different iterations and combos of features while kbest will only investigate each variable in \n",
    "isolation. As the features go up for each they overlap eachother in selections. "
   ]
  },
  {
   "cell_type": "code",
   "execution_count": null,
   "id": "c01760d3",
   "metadata": {},
   "outputs": [],
   "source": [
    "# 4. Load the swiss dataset and use all the other features to predict Fertility. Find the top three features using \n",
    "# both select k best and recursive feature elimination (using the functions that were just built)."
   ]
  },
  {
   "cell_type": "code",
   "execution_count": 28,
   "id": "9280e99a",
   "metadata": {},
   "outputs": [],
   "source": [
    "swiss = pydataset.data('swiss')"
   ]
  },
  {
   "cell_type": "code",
   "execution_count": 29,
   "id": "7614c5a3",
   "metadata": {},
   "outputs": [],
   "source": [
    "train_validate, test = train_test_split(swiss, random_state=456, test_size=.2)\n",
    "train, validate = train_test_split(train_validate, random_state=456, test_size=.2)"
   ]
  },
  {
   "cell_type": "code",
   "execution_count": 30,
   "id": "e699719f",
   "metadata": {},
   "outputs": [],
   "source": [
    "x_train = train.drop(columns='Fertility')\n",
    "y_train = train.Fertility"
   ]
  },
  {
   "cell_type": "code",
   "execution_count": 31,
   "id": "ad78cf15",
   "metadata": {},
   "outputs": [
    {
     "data": {
      "text/plain": [
       "Index(['Agriculture', 'Examination', 'Education'], dtype='object')"
      ]
     },
     "execution_count": 31,
     "metadata": {},
     "output_type": "execute_result"
    }
   ],
   "source": [
    "select_kbest(x_train, y_train, 3)"
   ]
  },
  {
   "cell_type": "code",
   "execution_count": 34,
   "id": "8bff538d",
   "metadata": {},
   "outputs": [
    {
     "data": {
      "text/plain": [
       "Index(['Examination', 'Education', 'Infant.Mortality'], dtype='object')"
      ]
     },
     "execution_count": 34,
     "metadata": {},
     "output_type": "execute_result"
    }
   ],
   "source": [
    "rfe(x_train, y_train, 3)"
   ]
  },
  {
   "cell_type": "code",
   "execution_count": null,
   "id": "4b16c094",
   "metadata": {},
   "outputs": [],
   "source": []
  }
 ],
 "metadata": {
  "kernelspec": {
   "display_name": "Python 3.9.7 64-bit ('base': conda)",
   "language": "python",
   "name": "python397jvsc74a57bd038cca0c38332a56087b24af0bc80247f4fced29cb4f7f437d91dc159adec9c4e"
  },
  "language_info": {
   "codemirror_mode": {
    "name": "ipython",
    "version": 3
   },
   "file_extension": ".py",
   "mimetype": "text/x-python",
   "name": "python",
   "nbconvert_exporter": "python",
   "pygments_lexer": "ipython3",
   "version": "3.9.7"
  }
 },
 "nbformat": 4,
 "nbformat_minor": 5
}
