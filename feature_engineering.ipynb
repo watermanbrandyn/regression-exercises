{
 "cells": [
  {
   "cell_type": "code",
   "execution_count": 1,
   "id": "c799baad",
   "metadata": {},
   "outputs": [],
   "source": [
    "# os functions\n",
    "import os\n",
    "\n",
    "# local files\n",
    "from env import host, user, password\n",
    "import wrangle as w\n",
    "\n",
    "# df manipulations\n",
    "import pandas as pd\n",
    "import numpy as np\n",
    "\n",
    "# visualization\n",
    "import seaborn as sns\n",
    "%matplotlib inline\n",
    "import matplotlib.pyplot as plt\n",
    "\n",
    "from scipy import stats\n",
    "from math import sqrt\n",
    "\n",
    "from sklearn.preprocessing import MinMaxScaler, StandardScaler, RobustScaler, QuantileTransformer \n",
    "from sklearn.model_selection import train_test_split\n",
    "from sklearn.impute import SimpleImputer\n",
    "\n",
    "from sklearn.linear_model import LinearRegression\n",
    "from sklearn.feature_selection import f_regression\n",
    "from sklearn.metrics import mean_squared_error, r2_score, explained_variance_score\n",
    "from sklearn.feature_selection import SelectKBest, RFE, SequentialFeatureSelector\n",
    "\n",
    "import warnings\n",
    "warnings.filterwarnings(\"ignore\")\n",
    "\n",
    "np.random.seed(123)"
   ]
  },
  {
   "cell_type": "code",
   "execution_count": 2,
   "id": "70b73a62",
   "metadata": {},
   "outputs": [],
   "source": [
    "# 1. Load tips dataset\n",
    "from pydataset import data\n",
    "tips = data('tips')\n",
    "# A. Create a column price_per_person (total_bill / party size)\n",
    "tips['price_per_person'] = round((tips.total_bill / tips['size']), 2)"
   ]
  },
  {
   "cell_type": "code",
   "execution_count": 3,
   "id": "8e35e3d3",
   "metadata": {},
   "outputs": [
    {
     "name": "stdout",
     "output_type": "stream",
     "text": [
      "<class 'pandas.core.frame.DataFrame'>\n",
      "Int64Index: 244 entries, 1 to 244\n",
      "Data columns (total 8 columns):\n",
      " #   Column            Non-Null Count  Dtype  \n",
      "---  ------            --------------  -----  \n",
      " 0   total_bill        244 non-null    float64\n",
      " 1   tip               244 non-null    float64\n",
      " 2   sex               244 non-null    object \n",
      " 3   smoker            244 non-null    object \n",
      " 4   day               244 non-null    object \n",
      " 5   time              244 non-null    object \n",
      " 6   size              244 non-null    int64  \n",
      " 7   price_per_person  244 non-null    float64\n",
      "dtypes: float64(3), int64(1), object(4)\n",
      "memory usage: 17.2+ KB\n"
     ]
    },
    {
     "data": {
      "text/plain": [
       "(   total_bill   tip     sex smoker  day    time  size  price_per_person\n",
       " 1       16.99  1.01  Female     No  Sun  Dinner     2              8.49\n",
       " 2       10.34  1.66    Male     No  Sun  Dinner     3              3.45\n",
       " 3       21.01  3.50    Male     No  Sun  Dinner     3              7.00\n",
       " 4       23.68  3.31    Male     No  Sun  Dinner     2             11.84\n",
       " 5       24.59  3.61  Female     No  Sun  Dinner     4              6.15,\n",
       " None)"
      ]
     },
     "execution_count": 3,
     "metadata": {},
     "output_type": "execute_result"
    }
   ],
   "source": [
    "tips.head(), tips.info()"
   ]
  },
  {
   "cell_type": "code",
   "execution_count": 4,
   "id": "db5b8653",
   "metadata": {},
   "outputs": [
    {
     "data": {
      "text/plain": [
       "Sat     87\n",
       "Sun     76\n",
       "Thur    62\n",
       "Fri     19\n",
       "Name: day, dtype: int64"
      ]
     },
     "execution_count": 4,
     "metadata": {},
     "output_type": "execute_result"
    }
   ],
   "source": [
    "tips.day.value_counts()"
   ]
  },
  {
   "cell_type": "code",
   "execution_count": 5,
   "id": "e6f18b0f",
   "metadata": {},
   "outputs": [],
   "source": [
    "# Encode the cat_cols\n",
    "tips.sex = tips.sex.map({'Male' : 0, 'Female' : 1})\n",
    "tips.smoker = tips.smoker.map({'No' : 0, 'Yes' : 1})\n",
    "tips.day = tips.day.map({'Thur' : 0, 'Fri' : 1, 'Sat' : 2, 'Sun' : 3})\n",
    "tips.time = tips.time.map({'Lunch' : 0, 'Dinner' : 1})\n",
    "\n",
    "cols = ['sex', 'smoker', 'day', 'time']\n",
    "for col in cols:\n",
    "    tips[col] = tips[col].astype(int)"
   ]
  },
  {
   "cell_type": "code",
   "execution_count": 6,
   "id": "73f3eb0a",
   "metadata": {},
   "outputs": [
    {
     "name": "stdout",
     "output_type": "stream",
     "text": [
      "<class 'pandas.core.frame.DataFrame'>\n",
      "Int64Index: 244 entries, 1 to 244\n",
      "Data columns (total 8 columns):\n",
      " #   Column            Non-Null Count  Dtype  \n",
      "---  ------            --------------  -----  \n",
      " 0   total_bill        244 non-null    float64\n",
      " 1   tip               244 non-null    float64\n",
      " 2   sex               244 non-null    int64  \n",
      " 3   smoker            244 non-null    int64  \n",
      " 4   day               244 non-null    int64  \n",
      " 5   time              244 non-null    int64  \n",
      " 6   size              244 non-null    int64  \n",
      " 7   price_per_person  244 non-null    float64\n",
      "dtypes: float64(3), int64(5)\n",
      "memory usage: 17.2 KB\n"
     ]
    }
   ],
   "source": [
    "tips.info()"
   ]
  },
  {
   "cell_type": "code",
   "execution_count": 7,
   "id": "d440f422",
   "metadata": {},
   "outputs": [],
   "source": [
    "# Data split\n",
    "train_validate, test = train_test_split(tips, train_size= .8,\n",
    "                                       random_state=123)\n",
    "train, validate = train_test_split(train_validate, train_size = .7,\n",
    "                                  random_state=123)"
   ]
  },
  {
   "cell_type": "code",
   "execution_count": 8,
   "id": "466a6dff",
   "metadata": {},
   "outputs": [
    {
     "name": "stdout",
     "output_type": "stream",
     "text": [
      "<class 'pandas.core.frame.DataFrame'>\n",
      "Int64Index: 136 entries, 19 to 167\n",
      "Data columns (total 8 columns):\n",
      " #   Column            Non-Null Count  Dtype  \n",
      "---  ------            --------------  -----  \n",
      " 0   total_bill        136 non-null    float64\n",
      " 1   tip               136 non-null    float64\n",
      " 2   sex               136 non-null    int64  \n",
      " 3   smoker            136 non-null    int64  \n",
      " 4   day               136 non-null    int64  \n",
      " 5   time              136 non-null    int64  \n",
      " 6   size              136 non-null    int64  \n",
      " 7   price_per_person  136 non-null    float64\n",
      "dtypes: float64(3), int64(5)\n",
      "memory usage: 9.6 KB\n"
     ]
    }
   ],
   "source": [
    "train.info()"
   ]
  },
  {
   "cell_type": "markdown",
   "id": "3ca3be3d",
   "metadata": {},
   "source": [
    "B. Before using any of the methods discussed in the lesson, which features do you think would be most important for \n",
    "predicting tip amount?\n",
    "\n",
    "I think total_bill, time, and size will have the biggest impacts on tip"
   ]
  },
  {
   "cell_type": "code",
   "execution_count": 24,
   "id": "8d3e1891",
   "metadata": {},
   "outputs": [
    {
     "data": {
      "text/plain": [
       "SelectKBest(k=4, score_func=<function f_regression at 0x7fa60c3553a0>)"
      ]
     },
     "execution_count": 24,
     "metadata": {},
     "output_type": "execute_result"
    }
   ],
   "source": [
    "# C. Use select K best to select the top 2 features for predicting tip amount, what are they?\n",
    "train_x = train.drop(columns='tip')\n",
    "train_y = train.tip\n",
    "\n",
    "validate_x = validate.drop(columns='tip')\n",
    "validate_y = validate.tip\n",
    "\n",
    "test_x = test.drop(columns='tip')\n",
    "test_y = test.tip\n",
    "\n",
    "\n",
    "kbest = SelectKBest(f_regression, k=4)\n",
    "kbest.fit(train_x, train_y)"
   ]
  },
  {
   "cell_type": "code",
   "execution_count": 25,
   "id": "8499116a",
   "metadata": {},
   "outputs": [
    {
     "data": {
      "text/plain": [
       "['total_bill', 'day', 'size', 'price_per_person']"
      ]
     },
     "execution_count": 25,
     "metadata": {},
     "output_type": "execute_result"
    }
   ],
   "source": [
    "feature_mask = kbest.get_support()\n",
    "features = train_x.iloc[:, feature_mask].columns.tolist()\n",
    "features"
   ]
  },
  {
   "cell_type": "code",
   "execution_count": 20,
   "id": "fffd726e",
   "metadata": {},
   "outputs": [
    {
     "data": {
      "text/plain": [
       "RFE(estimator=LinearRegression(), n_features_to_select=4)"
      ]
     },
     "execution_count": 20,
     "metadata": {},
     "output_type": "execute_result"
    }
   ],
   "source": [
    "# D. Use recursive feature elimination to select the top 2 features for tip amount. What are they?\n",
    "lm = LinearRegression()\n",
    "rfe = RFE(lm, n_features_to_select=4)\n",
    "\n",
    "rfe.fit(train_x, train_y)"
   ]
  },
  {
   "cell_type": "code",
   "execution_count": 21,
   "id": "29e9f778",
   "metadata": {},
   "outputs": [
    {
     "data": {
      "text/plain": [
       "['total_bill', 'sex', 'size', 'price_per_person']"
      ]
     },
     "execution_count": 21,
     "metadata": {},
     "output_type": "execute_result"
    }
   ],
   "source": [
    "feature_mask = rfe.support_\n",
    "rfe_feature = train_x.iloc[:, feature_mask].columns.tolist()\n",
    "rfe_feature"
   ]
  },
  {
   "cell_type": "markdown",
   "id": "fb98d9c8",
   "metadata": {},
   "source": [
    "E. Why do you think select k best and recursive feature elimination might give different answers for the top \n",
    "features? Does this change as you change the number of features you are selecting?\n",
    "\n",
    "RFE will go through different iterations and combos of features while kbest will only investigate each variable in \n",
    "isolation. As the features go up for each they overlap eachother in selections. "
   ]
  },
  {
   "cell_type": "code",
   "execution_count": 42,
   "id": "6c73ed9c",
   "metadata": {},
   "outputs": [
    {
     "data": {
      "text/html": [
       "<div>\n",
       "<style scoped>\n",
       "    .dataframe tbody tr th:only-of-type {\n",
       "        vertical-align: middle;\n",
       "    }\n",
       "\n",
       "    .dataframe tbody tr th {\n",
       "        vertical-align: top;\n",
       "    }\n",
       "\n",
       "    .dataframe thead th {\n",
       "        text-align: right;\n",
       "    }\n",
       "</style>\n",
       "<table border=\"1\" class=\"dataframe\">\n",
       "  <thead>\n",
       "    <tr style=\"text-align: right;\">\n",
       "      <th></th>\n",
       "      <th>total_bill</th>\n",
       "      <th>tip</th>\n",
       "      <th>sex</th>\n",
       "      <th>smoker</th>\n",
       "      <th>day</th>\n",
       "      <th>time</th>\n",
       "      <th>size</th>\n",
       "      <th>price_per_person</th>\n",
       "    </tr>\n",
       "  </thead>\n",
       "  <tbody>\n",
       "    <tr>\n",
       "      <th>1</th>\n",
       "      <td>16.99</td>\n",
       "      <td>1.01</td>\n",
       "      <td>Female</td>\n",
       "      <td>No</td>\n",
       "      <td>Sun</td>\n",
       "      <td>Dinner</td>\n",
       "      <td>2</td>\n",
       "      <td>8.49</td>\n",
       "    </tr>\n",
       "    <tr>\n",
       "      <th>2</th>\n",
       "      <td>10.34</td>\n",
       "      <td>1.66</td>\n",
       "      <td>Male</td>\n",
       "      <td>No</td>\n",
       "      <td>Sun</td>\n",
       "      <td>Dinner</td>\n",
       "      <td>3</td>\n",
       "      <td>3.45</td>\n",
       "    </tr>\n",
       "    <tr>\n",
       "      <th>3</th>\n",
       "      <td>21.01</td>\n",
       "      <td>3.50</td>\n",
       "      <td>Male</td>\n",
       "      <td>No</td>\n",
       "      <td>Sun</td>\n",
       "      <td>Dinner</td>\n",
       "      <td>3</td>\n",
       "      <td>7.00</td>\n",
       "    </tr>\n",
       "    <tr>\n",
       "      <th>4</th>\n",
       "      <td>23.68</td>\n",
       "      <td>3.31</td>\n",
       "      <td>Male</td>\n",
       "      <td>No</td>\n",
       "      <td>Sun</td>\n",
       "      <td>Dinner</td>\n",
       "      <td>2</td>\n",
       "      <td>11.84</td>\n",
       "    </tr>\n",
       "    <tr>\n",
       "      <th>5</th>\n",
       "      <td>24.59</td>\n",
       "      <td>3.61</td>\n",
       "      <td>Female</td>\n",
       "      <td>No</td>\n",
       "      <td>Sun</td>\n",
       "      <td>Dinner</td>\n",
       "      <td>4</td>\n",
       "      <td>6.15</td>\n",
       "    </tr>\n",
       "  </tbody>\n",
       "</table>\n",
       "</div>"
      ],
      "text/plain": [
       "   total_bill   tip     sex smoker  day    time  size  price_per_person\n",
       "1       16.99  1.01  Female     No  Sun  Dinner     2              8.49\n",
       "2       10.34  1.66    Male     No  Sun  Dinner     3              3.45\n",
       "3       21.01  3.50    Male     No  Sun  Dinner     3              7.00\n",
       "4       23.68  3.31    Male     No  Sun  Dinner     2             11.84\n",
       "5       24.59  3.61  Female     No  Sun  Dinner     4              6.15"
      ]
     },
     "execution_count": 42,
     "metadata": {},
     "output_type": "execute_result"
    }
   ],
   "source": [
    "tips.head()"
   ]
  },
  {
   "cell_type": "code",
   "execution_count": 26,
   "id": "dc0e4abc",
   "metadata": {},
   "outputs": [],
   "source": [
    "# 2. Write a function named select_kbest that takes in predictors (X), target (y), and the number of features\n",
    "# to select (k) and returns the names of the top k selected features based on the SelectKBest class. Test function\n",
    "# with tips dataset. "
   ]
  },
  {
   "cell_type": "code",
   "execution_count": null,
   "id": "7993fd0c",
   "metadata": {},
   "outputs": [],
   "source": []
  },
  {
   "cell_type": "code",
   "execution_count": 27,
   "id": "2987f084",
   "metadata": {},
   "outputs": [],
   "source": [
    "# 3. Write a function named rfe that takes in the predictors, the target, and the number of features to select. It \n",
    "# should return the top k features based on the RFE class. Test your function on the tips dataset. "
   ]
  },
  {
   "cell_type": "code",
   "execution_count": null,
   "id": "19afad93",
   "metadata": {},
   "outputs": [],
   "source": []
  },
  {
   "cell_type": "code",
   "execution_count": 28,
   "id": "c01760d3",
   "metadata": {},
   "outputs": [],
   "source": [
    "# 4. Load the swiss dataset and use all the other features to predict Fertility. Find the top three features using \n",
    "# both select k best and recursive feature elimination (using the functions that were just built)."
   ]
  },
  {
   "cell_type": "code",
   "execution_count": null,
   "id": "9280e99a",
   "metadata": {},
   "outputs": [],
   "source": []
  }
 ],
 "metadata": {
  "kernelspec": {
   "display_name": "Python 3.9.7 64-bit ('base': conda)",
   "language": "python",
   "name": "python397jvsc74a57bd038cca0c38332a56087b24af0bc80247f4fced29cb4f7f437d91dc159adec9c4e"
  },
  "language_info": {
   "codemirror_mode": {
    "name": "ipython",
    "version": 3
   },
   "file_extension": ".py",
   "mimetype": "text/x-python",
   "name": "python",
   "nbconvert_exporter": "python",
   "pygments_lexer": "ipython3",
   "version": "3.9.7"
  }
 },
 "nbformat": 4,
 "nbformat_minor": 5
}
