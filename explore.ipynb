{
 "cells": [
  {
   "cell_type": "code",
   "execution_count": 1,
   "id": "1afc11a3",
   "metadata": {},
   "outputs": [],
   "source": [
    "import explore"
   ]
  },
  {
   "cell_type": "code",
   "execution_count": 2,
   "id": "79cdb43f",
   "metadata": {},
   "outputs": [
    {
     "name": "stdout",
     "output_type": "stream",
     "text": [
      "Using cached csv\n"
     ]
    }
   ],
   "source": [
    "train, validate, test = explore.wrangle_telco()"
   ]
  },
  {
   "cell_type": "code",
   "execution_count": 3,
   "id": "45ba3d27",
   "metadata": {},
   "outputs": [
    {
     "data": {
      "text/html": [
       "<div>\n",
       "<style scoped>\n",
       "    .dataframe tbody tr th:only-of-type {\n",
       "        vertical-align: middle;\n",
       "    }\n",
       "\n",
       "    .dataframe tbody tr th {\n",
       "        vertical-align: top;\n",
       "    }\n",
       "\n",
       "    .dataframe thead th {\n",
       "        text-align: right;\n",
       "    }\n",
       "</style>\n",
       "<table border=\"1\" class=\"dataframe\">\n",
       "  <thead>\n",
       "    <tr style=\"text-align: right;\">\n",
       "      <th></th>\n",
       "      <th>customer_id</th>\n",
       "      <th>senior_citizen</th>\n",
       "      <th>tenure</th>\n",
       "      <th>monthly_charges</th>\n",
       "      <th>total_charges</th>\n",
       "      <th>gender_Male</th>\n",
       "      <th>partner_Yes</th>\n",
       "      <th>dependents_Yes</th>\n",
       "      <th>phone_service_Yes</th>\n",
       "      <th>multiple_lines_No phone service</th>\n",
       "      <th>...</th>\n",
       "      <th>streaming_movies_Yes</th>\n",
       "      <th>paperless_billing_Yes</th>\n",
       "      <th>churn_Yes</th>\n",
       "      <th>internet_service_type_Fiber optic</th>\n",
       "      <th>internet_service_type_None</th>\n",
       "      <th>contract_type_One year</th>\n",
       "      <th>contract_type_Two year</th>\n",
       "      <th>payment_type_Credit card (automatic)</th>\n",
       "      <th>payment_type_Electronic check</th>\n",
       "      <th>payment_type_Mailed check</th>\n",
       "    </tr>\n",
       "  </thead>\n",
       "  <tbody>\n",
       "    <tr>\n",
       "      <th>6169</th>\n",
       "      <td>7322-OCWHC</td>\n",
       "      <td>1</td>\n",
       "      <td>72</td>\n",
       "      <td>93.05</td>\n",
       "      <td>6735.05</td>\n",
       "      <td>1</td>\n",
       "      <td>1</td>\n",
       "      <td>0</td>\n",
       "      <td>1</td>\n",
       "      <td>0</td>\n",
       "      <td>...</td>\n",
       "      <td>0</td>\n",
       "      <td>1</td>\n",
       "      <td>0</td>\n",
       "      <td>1</td>\n",
       "      <td>0</td>\n",
       "      <td>0</td>\n",
       "      <td>1</td>\n",
       "      <td>0</td>\n",
       "      <td>0</td>\n",
       "      <td>0</td>\n",
       "    </tr>\n",
       "    <tr>\n",
       "      <th>1840</th>\n",
       "      <td>7654-YWJUF</td>\n",
       "      <td>0</td>\n",
       "      <td>43</td>\n",
       "      <td>84.25</td>\n",
       "      <td>3539.25</td>\n",
       "      <td>1</td>\n",
       "      <td>1</td>\n",
       "      <td>0</td>\n",
       "      <td>1</td>\n",
       "      <td>0</td>\n",
       "      <td>...</td>\n",
       "      <td>0</td>\n",
       "      <td>1</td>\n",
       "      <td>0</td>\n",
       "      <td>1</td>\n",
       "      <td>0</td>\n",
       "      <td>1</td>\n",
       "      <td>0</td>\n",
       "      <td>0</td>\n",
       "      <td>0</td>\n",
       "      <td>0</td>\n",
       "    </tr>\n",
       "    <tr>\n",
       "      <th>5368</th>\n",
       "      <td>7018-WBJNK</td>\n",
       "      <td>0</td>\n",
       "      <td>13</td>\n",
       "      <td>78.30</td>\n",
       "      <td>1033.95</td>\n",
       "      <td>1</td>\n",
       "      <td>0</td>\n",
       "      <td>1</td>\n",
       "      <td>1</td>\n",
       "      <td>0</td>\n",
       "      <td>...</td>\n",
       "      <td>0</td>\n",
       "      <td>1</td>\n",
       "      <td>0</td>\n",
       "      <td>1</td>\n",
       "      <td>0</td>\n",
       "      <td>0</td>\n",
       "      <td>0</td>\n",
       "      <td>1</td>\n",
       "      <td>0</td>\n",
       "      <td>0</td>\n",
       "    </tr>\n",
       "    <tr>\n",
       "      <th>2183</th>\n",
       "      <td>5376-PCKNB</td>\n",
       "      <td>0</td>\n",
       "      <td>72</td>\n",
       "      <td>104.45</td>\n",
       "      <td>7459.00</td>\n",
       "      <td>1</td>\n",
       "      <td>1</td>\n",
       "      <td>1</td>\n",
       "      <td>1</td>\n",
       "      <td>0</td>\n",
       "      <td>...</td>\n",
       "      <td>1</td>\n",
       "      <td>1</td>\n",
       "      <td>0</td>\n",
       "      <td>1</td>\n",
       "      <td>0</td>\n",
       "      <td>1</td>\n",
       "      <td>0</td>\n",
       "      <td>1</td>\n",
       "      <td>0</td>\n",
       "      <td>0</td>\n",
       "    </tr>\n",
       "    <tr>\n",
       "      <th>6441</th>\n",
       "      <td>5821-MMEIL</td>\n",
       "      <td>0</td>\n",
       "      <td>57</td>\n",
       "      <td>19.90</td>\n",
       "      <td>1115.60</td>\n",
       "      <td>0</td>\n",
       "      <td>1</td>\n",
       "      <td>0</td>\n",
       "      <td>1</td>\n",
       "      <td>0</td>\n",
       "      <td>...</td>\n",
       "      <td>0</td>\n",
       "      <td>0</td>\n",
       "      <td>0</td>\n",
       "      <td>0</td>\n",
       "      <td>1</td>\n",
       "      <td>0</td>\n",
       "      <td>1</td>\n",
       "      <td>0</td>\n",
       "      <td>0</td>\n",
       "      <td>0</td>\n",
       "    </tr>\n",
       "  </tbody>\n",
       "</table>\n",
       "<p>5 rows × 32 columns</p>\n",
       "</div>"
      ],
      "text/plain": [
       "     customer_id  senior_citizen  tenure  monthly_charges  total_charges  \\\n",
       "6169  7322-OCWHC               1      72            93.05        6735.05   \n",
       "1840  7654-YWJUF               0      43            84.25        3539.25   \n",
       "5368  7018-WBJNK               0      13            78.30        1033.95   \n",
       "2183  5376-PCKNB               0      72           104.45        7459.00   \n",
       "6441  5821-MMEIL               0      57            19.90        1115.60   \n",
       "\n",
       "      gender_Male  partner_Yes  dependents_Yes  phone_service_Yes  \\\n",
       "6169            1            1               0                  1   \n",
       "1840            1            1               0                  1   \n",
       "5368            1            0               1                  1   \n",
       "2183            1            1               1                  1   \n",
       "6441            0            1               0                  1   \n",
       "\n",
       "      multiple_lines_No phone service  ...  streaming_movies_Yes  \\\n",
       "6169                                0  ...                     0   \n",
       "1840                                0  ...                     0   \n",
       "5368                                0  ...                     0   \n",
       "2183                                0  ...                     1   \n",
       "6441                                0  ...                     0   \n",
       "\n",
       "      paperless_billing_Yes  churn_Yes  internet_service_type_Fiber optic  \\\n",
       "6169                      1          0                                  1   \n",
       "1840                      1          0                                  1   \n",
       "5368                      1          0                                  1   \n",
       "2183                      1          0                                  1   \n",
       "6441                      0          0                                  0   \n",
       "\n",
       "      internet_service_type_None  contract_type_One year  \\\n",
       "6169                           0                       0   \n",
       "1840                           0                       1   \n",
       "5368                           0                       0   \n",
       "2183                           0                       1   \n",
       "6441                           1                       0   \n",
       "\n",
       "      contract_type_Two year  payment_type_Credit card (automatic)  \\\n",
       "6169                       1                                     0   \n",
       "1840                       0                                     0   \n",
       "5368                       0                                     1   \n",
       "2183                       0                                     1   \n",
       "6441                       1                                     0   \n",
       "\n",
       "      payment_type_Electronic check  payment_type_Mailed check  \n",
       "6169                              0                          0  \n",
       "1840                              0                          0  \n",
       "5368                              0                          0  \n",
       "2183                              0                          0  \n",
       "6441                              0                          0  \n",
       "\n",
       "[5 rows x 32 columns]"
      ]
     },
     "execution_count": 3,
     "metadata": {},
     "output_type": "execute_result"
    }
   ],
   "source": [
    "train.head()"
   ]
  },
  {
   "cell_type": "code",
   "execution_count": 4,
   "id": "0c36dfe4",
   "metadata": {},
   "outputs": [],
   "source": [
    "#explore.plot_variable_pairs(train)"
   ]
  },
  {
   "cell_type": "code",
   "execution_count": 5,
   "id": "c7a46cc0",
   "metadata": {},
   "outputs": [],
   "source": [
    "train = explore.months_to_years(train)"
   ]
  },
  {
   "cell_type": "code",
   "execution_count": 6,
   "id": "66a773d3",
   "metadata": {},
   "outputs": [
    {
     "data": {
      "text/html": [
       "<div>\n",
       "<style scoped>\n",
       "    .dataframe tbody tr th:only-of-type {\n",
       "        vertical-align: middle;\n",
       "    }\n",
       "\n",
       "    .dataframe tbody tr th {\n",
       "        vertical-align: top;\n",
       "    }\n",
       "\n",
       "    .dataframe thead th {\n",
       "        text-align: right;\n",
       "    }\n",
       "</style>\n",
       "<table border=\"1\" class=\"dataframe\">\n",
       "  <thead>\n",
       "    <tr style=\"text-align: right;\">\n",
       "      <th></th>\n",
       "      <th>customer_id</th>\n",
       "      <th>senior_citizen</th>\n",
       "      <th>tenure</th>\n",
       "      <th>monthly_charges</th>\n",
       "      <th>total_charges</th>\n",
       "      <th>gender_Male</th>\n",
       "      <th>partner_Yes</th>\n",
       "      <th>dependents_Yes</th>\n",
       "      <th>phone_service_Yes</th>\n",
       "      <th>multiple_lines_No phone service</th>\n",
       "      <th>...</th>\n",
       "      <th>paperless_billing_Yes</th>\n",
       "      <th>churn_Yes</th>\n",
       "      <th>internet_service_type_Fiber optic</th>\n",
       "      <th>internet_service_type_None</th>\n",
       "      <th>contract_type_One year</th>\n",
       "      <th>contract_type_Two year</th>\n",
       "      <th>payment_type_Credit card (automatic)</th>\n",
       "      <th>payment_type_Electronic check</th>\n",
       "      <th>payment_type_Mailed check</th>\n",
       "      <th>tenure_years</th>\n",
       "    </tr>\n",
       "  </thead>\n",
       "  <tbody>\n",
       "    <tr>\n",
       "      <th>6169</th>\n",
       "      <td>7322-OCWHC</td>\n",
       "      <td>1</td>\n",
       "      <td>72</td>\n",
       "      <td>93.05</td>\n",
       "      <td>6735.05</td>\n",
       "      <td>1</td>\n",
       "      <td>1</td>\n",
       "      <td>0</td>\n",
       "      <td>1</td>\n",
       "      <td>0</td>\n",
       "      <td>...</td>\n",
       "      <td>1</td>\n",
       "      <td>0</td>\n",
       "      <td>1</td>\n",
       "      <td>0</td>\n",
       "      <td>0</td>\n",
       "      <td>1</td>\n",
       "      <td>0</td>\n",
       "      <td>0</td>\n",
       "      <td>0</td>\n",
       "      <td>6</td>\n",
       "    </tr>\n",
       "    <tr>\n",
       "      <th>1840</th>\n",
       "      <td>7654-YWJUF</td>\n",
       "      <td>0</td>\n",
       "      <td>43</td>\n",
       "      <td>84.25</td>\n",
       "      <td>3539.25</td>\n",
       "      <td>1</td>\n",
       "      <td>1</td>\n",
       "      <td>0</td>\n",
       "      <td>1</td>\n",
       "      <td>0</td>\n",
       "      <td>...</td>\n",
       "      <td>1</td>\n",
       "      <td>0</td>\n",
       "      <td>1</td>\n",
       "      <td>0</td>\n",
       "      <td>1</td>\n",
       "      <td>0</td>\n",
       "      <td>0</td>\n",
       "      <td>0</td>\n",
       "      <td>0</td>\n",
       "      <td>4</td>\n",
       "    </tr>\n",
       "    <tr>\n",
       "      <th>5368</th>\n",
       "      <td>7018-WBJNK</td>\n",
       "      <td>0</td>\n",
       "      <td>13</td>\n",
       "      <td>78.30</td>\n",
       "      <td>1033.95</td>\n",
       "      <td>1</td>\n",
       "      <td>0</td>\n",
       "      <td>1</td>\n",
       "      <td>1</td>\n",
       "      <td>0</td>\n",
       "      <td>...</td>\n",
       "      <td>1</td>\n",
       "      <td>0</td>\n",
       "      <td>1</td>\n",
       "      <td>0</td>\n",
       "      <td>0</td>\n",
       "      <td>0</td>\n",
       "      <td>1</td>\n",
       "      <td>0</td>\n",
       "      <td>0</td>\n",
       "      <td>1</td>\n",
       "    </tr>\n",
       "    <tr>\n",
       "      <th>2183</th>\n",
       "      <td>5376-PCKNB</td>\n",
       "      <td>0</td>\n",
       "      <td>72</td>\n",
       "      <td>104.45</td>\n",
       "      <td>7459.00</td>\n",
       "      <td>1</td>\n",
       "      <td>1</td>\n",
       "      <td>1</td>\n",
       "      <td>1</td>\n",
       "      <td>0</td>\n",
       "      <td>...</td>\n",
       "      <td>1</td>\n",
       "      <td>0</td>\n",
       "      <td>1</td>\n",
       "      <td>0</td>\n",
       "      <td>1</td>\n",
       "      <td>0</td>\n",
       "      <td>1</td>\n",
       "      <td>0</td>\n",
       "      <td>0</td>\n",
       "      <td>6</td>\n",
       "    </tr>\n",
       "    <tr>\n",
       "      <th>6441</th>\n",
       "      <td>5821-MMEIL</td>\n",
       "      <td>0</td>\n",
       "      <td>57</td>\n",
       "      <td>19.90</td>\n",
       "      <td>1115.60</td>\n",
       "      <td>0</td>\n",
       "      <td>1</td>\n",
       "      <td>0</td>\n",
       "      <td>1</td>\n",
       "      <td>0</td>\n",
       "      <td>...</td>\n",
       "      <td>0</td>\n",
       "      <td>0</td>\n",
       "      <td>0</td>\n",
       "      <td>1</td>\n",
       "      <td>0</td>\n",
       "      <td>1</td>\n",
       "      <td>0</td>\n",
       "      <td>0</td>\n",
       "      <td>0</td>\n",
       "      <td>5</td>\n",
       "    </tr>\n",
       "  </tbody>\n",
       "</table>\n",
       "<p>5 rows × 33 columns</p>\n",
       "</div>"
      ],
      "text/plain": [
       "     customer_id  senior_citizen  tenure  monthly_charges  total_charges  \\\n",
       "6169  7322-OCWHC               1      72            93.05        6735.05   \n",
       "1840  7654-YWJUF               0      43            84.25        3539.25   \n",
       "5368  7018-WBJNK               0      13            78.30        1033.95   \n",
       "2183  5376-PCKNB               0      72           104.45        7459.00   \n",
       "6441  5821-MMEIL               0      57            19.90        1115.60   \n",
       "\n",
       "      gender_Male  partner_Yes  dependents_Yes  phone_service_Yes  \\\n",
       "6169            1            1               0                  1   \n",
       "1840            1            1               0                  1   \n",
       "5368            1            0               1                  1   \n",
       "2183            1            1               1                  1   \n",
       "6441            0            1               0                  1   \n",
       "\n",
       "      multiple_lines_No phone service  ...  paperless_billing_Yes  churn_Yes  \\\n",
       "6169                                0  ...                      1          0   \n",
       "1840                                0  ...                      1          0   \n",
       "5368                                0  ...                      1          0   \n",
       "2183                                0  ...                      1          0   \n",
       "6441                                0  ...                      0          0   \n",
       "\n",
       "      internet_service_type_Fiber optic  internet_service_type_None  \\\n",
       "6169                                  1                           0   \n",
       "1840                                  1                           0   \n",
       "5368                                  1                           0   \n",
       "2183                                  1                           0   \n",
       "6441                                  0                           1   \n",
       "\n",
       "      contract_type_One year  contract_type_Two year  \\\n",
       "6169                       0                       1   \n",
       "1840                       1                       0   \n",
       "5368                       0                       0   \n",
       "2183                       1                       0   \n",
       "6441                       0                       1   \n",
       "\n",
       "      payment_type_Credit card (automatic)  payment_type_Electronic check  \\\n",
       "6169                                     0                              0   \n",
       "1840                                     0                              0   \n",
       "5368                                     1                              0   \n",
       "2183                                     1                              0   \n",
       "6441                                     0                              0   \n",
       "\n",
       "      payment_type_Mailed check  tenure_years  \n",
       "6169                          0             6  \n",
       "1840                          0             4  \n",
       "5368                          0             1  \n",
       "2183                          0             6  \n",
       "6441                          0             5  \n",
       "\n",
       "[5 rows x 33 columns]"
      ]
     },
     "execution_count": 6,
     "metadata": {},
     "output_type": "execute_result"
    }
   ],
   "source": [
    "train.head()"
   ]
  },
  {
   "cell_type": "code",
   "execution_count": 7,
   "id": "efaf479b",
   "metadata": {},
   "outputs": [
    {
     "data": {
      "image/png": "[encoded data removed]",
      "text/plain": [
       "<Figure size 360x360 with 1 Axes>"
      ]
     },
     "metadata": {
      "needs_background": "light"
     },
     "output_type": "display_data"
    },
    {
     "name": "stderr",
     "output_type": "stream",
     "text": [
      "/opt/homebrew/anaconda3/lib/python3.9/site-packages/seaborn/_decorators.py:36: FutureWarning: Pass the following variable as a keyword arg: x. From version 0.12, the only valid positional argument will be `data`, and passing other arguments without an explicit keyword will result in an error or misinterpretation.\n",
      "  warnings.warn(\n"
     ]
    },
    {
     "data": {
      "image/png": "[encoded data removed]",
      "text/plain": [
       "<Figure size 432x288 with 1 Axes>"
      ]
     },
     "metadata": {
      "needs_background": "light"
     },
     "output_type": "display_data"
    },
    {
     "data": {
      "image/png": "[encoded data removed]",
      "text/plain": [
       "<Figure size 432x288 with 1 Axes>"
      ]
     },
     "metadata": {
      "needs_background": "light"
     },
     "output_type": "display_data"
    },
    {
     "data": {
      "image/png": "[encoded data removed]",
      "text/plain": [
       "<Figure size 360x360 with 1 Axes>"
      ]
     },
     "metadata": {
      "needs_background": "light"
     },
     "output_type": "display_data"
    },
    {
     "name": "stderr",
     "output_type": "stream",
     "text": [
      "/opt/homebrew/anaconda3/lib/python3.9/site-packages/seaborn/_decorators.py:36: FutureWarning: Pass the following variable as a keyword arg: x. From version 0.12, the only valid positional argument will be `data`, and passing other arguments without an explicit keyword will result in an error or misinterpretation.\n",
      "  warnings.warn(\n"
     ]
    },
    {
     "data": {
      "image/png": "[encoded data removed]",
      "text/plain": [
       "<Figure size 432x288 with 1 Axes>"
      ]
     },
     "metadata": {
      "needs_background": "light"
     },
     "output_type": "display_data"
    },
    {
     "data": {
      "image/png": "[encoded data removed]",
      "text/plain": [
       "<Figure size 432x288 with 1 Axes>"
      ]
     },
     "metadata": {
      "needs_background": "light"
     },
     "output_type": "display_data"
    },
    {
     "data": {
      "image/png": "[encoded data removed]",
      "text/plain": [
       "<Figure size 432x288 with 1 Axes>"
      ]
     },
     "metadata": {
      "needs_background": "light"
     },
     "output_type": "display_data"
    }
   ],
   "source": [
    "conts = ['tenure', 'monthly_charges']\n",
    "cats = ['senior_citizen']\n",
    "explore.plot_categorical_and_continuous_vars(train, conts, cats)"
   ]
  },
  {
   "cell_type": "code",
   "execution_count": null,
   "id": "be825d2b",
   "metadata": {},
   "outputs": [],
   "source": []
  }
 ],
 "metadata": {
  "kernelspec": {
   "display_name": "Python 3.9.7 64-bit ('base': conda)",
   "language": "python",
   "name": "python397jvsc74a57bd038cca0c38332a56087b24af0bc80247f4fced29cb4f7f437d91dc159adec9c4e"
  },
  "language_info": {
   "codemirror_mode": {
    "name": "ipython",
    "version": 3
   },
   "file_extension": ".py",
   "mimetype": "text/x-python",
   "name": "python",
   "nbconvert_exporter": "python",
   "pygments_lexer": "ipython3",
   "version": "3.9.7"
  }
 },
 "nbformat": 4,
 "nbformat_minor": 5
}
